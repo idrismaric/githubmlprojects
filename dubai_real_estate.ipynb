{
 "cells": [
  {
   "cell_type": "code",
   "execution_count": 1,
   "metadata": {},
   "outputs": [],
   "source": [
    "import pandas as pd"
   ]
  },
  {
   "cell_type": "code",
   "execution_count": 2,
   "metadata": {},
   "outputs": [],
   "source": [
    "data = pd.read_csv(r'D:\\Dropbox\\00 Documents\\01 Documents\\02 Work\\03 Tableau\\DLD Dashboards\\Transactions.csv')"
   ]
  },
  {
   "cell_type": "code",
   "execution_count": 3,
   "metadata": {},
   "outputs": [
    {
     "data": {
      "text/html": [
       "<div>\n",
       "<style scoped>\n",
       "    .dataframe tbody tr th:only-of-type {\n",
       "        vertical-align: middle;\n",
       "    }\n",
       "\n",
       "    .dataframe tbody tr th {\n",
       "        vertical-align: top;\n",
       "    }\n",
       "\n",
       "    .dataframe thead th {\n",
       "        text-align: right;\n",
       "    }\n",
       "</style>\n",
       "<table border=\"1\" class=\"dataframe\">\n",
       "  <thead>\n",
       "    <tr style=\"text-align: right;\">\n",
       "      <th></th>\n",
       "      <th>transaction_id</th>\n",
       "      <th>procedure_id</th>\n",
       "      <th>trans_group_id</th>\n",
       "      <th>trans_group_ar</th>\n",
       "      <th>trans_group_en</th>\n",
       "      <th>procedure_name_ar</th>\n",
       "      <th>procedure_name_en</th>\n",
       "      <th>instance_date</th>\n",
       "      <th>property_type_id</th>\n",
       "      <th>property_type_ar</th>\n",
       "      <th>...</th>\n",
       "      <th>rooms_en</th>\n",
       "      <th>has_parking</th>\n",
       "      <th>procedure_area</th>\n",
       "      <th>actual_worth</th>\n",
       "      <th>meter_sale_price</th>\n",
       "      <th>rent_value</th>\n",
       "      <th>meter_rent_price</th>\n",
       "      <th>no_of_parties_role_1</th>\n",
       "      <th>no_of_parties_role_2</th>\n",
       "      <th>no_of_parties_role_3</th>\n",
       "    </tr>\n",
       "  </thead>\n",
       "  <tbody>\n",
       "    <tr>\n",
       "      <th>0</th>\n",
       "      <td>1-11-2004-2099</td>\n",
       "      <td>11</td>\n",
       "      <td>1</td>\n",
       "      <td>مبايعات</td>\n",
       "      <td>Sales</td>\n",
       "      <td>بيع</td>\n",
       "      <td>Sell</td>\n",
       "      <td>04-10-2004</td>\n",
       "      <td>4</td>\n",
       "      <td>فيلا</td>\n",
       "      <td>...</td>\n",
       "      <td>NaN</td>\n",
       "      <td>0</td>\n",
       "      <td>860.28</td>\n",
       "      <td>4500000.0</td>\n",
       "      <td>5230.86</td>\n",
       "      <td>NaN</td>\n",
       "      <td>NaN</td>\n",
       "      <td>3.0</td>\n",
       "      <td>1.0</td>\n",
       "      <td>0.0</td>\n",
       "    </tr>\n",
       "    <tr>\n",
       "      <th>1</th>\n",
       "      <td>1-11-2010-15769</td>\n",
       "      <td>11</td>\n",
       "      <td>1</td>\n",
       "      <td>مبايعات</td>\n",
       "      <td>Sales</td>\n",
       "      <td>بيع</td>\n",
       "      <td>Sell</td>\n",
       "      <td>25-10-2010</td>\n",
       "      <td>3</td>\n",
       "      <td>وحدة</td>\n",
       "      <td>...</td>\n",
       "      <td>1 B/R</td>\n",
       "      <td>1</td>\n",
       "      <td>100.80</td>\n",
       "      <td>928756.0</td>\n",
       "      <td>9213.85</td>\n",
       "      <td>NaN</td>\n",
       "      <td>NaN</td>\n",
       "      <td>1.0</td>\n",
       "      <td>1.0</td>\n",
       "      <td>0.0</td>\n",
       "    </tr>\n",
       "    <tr>\n",
       "      <th>2</th>\n",
       "      <td>1-11-2008-211116</td>\n",
       "      <td>11</td>\n",
       "      <td>1</td>\n",
       "      <td>مبايعات</td>\n",
       "      <td>Sales</td>\n",
       "      <td>بيع</td>\n",
       "      <td>Sell</td>\n",
       "      <td>18-12-2008</td>\n",
       "      <td>3</td>\n",
       "      <td>وحدة</td>\n",
       "      <td>...</td>\n",
       "      <td>2 B/R</td>\n",
       "      <td>1</td>\n",
       "      <td>137.45</td>\n",
       "      <td>796970.0</td>\n",
       "      <td>5798.25</td>\n",
       "      <td>NaN</td>\n",
       "      <td>NaN</td>\n",
       "      <td>1.0</td>\n",
       "      <td>2.0</td>\n",
       "      <td>0.0</td>\n",
       "    </tr>\n",
       "    <tr>\n",
       "      <th>3</th>\n",
       "      <td>1-11-2010-3056</td>\n",
       "      <td>11</td>\n",
       "      <td>1</td>\n",
       "      <td>مبايعات</td>\n",
       "      <td>Sales</td>\n",
       "      <td>بيع</td>\n",
       "      <td>Sell</td>\n",
       "      <td>10-03-2010</td>\n",
       "      <td>3</td>\n",
       "      <td>وحدة</td>\n",
       "      <td>...</td>\n",
       "      <td>Studio</td>\n",
       "      <td>1</td>\n",
       "      <td>47.65</td>\n",
       "      <td>519000.0</td>\n",
       "      <td>10891.92</td>\n",
       "      <td>NaN</td>\n",
       "      <td>NaN</td>\n",
       "      <td>1.0</td>\n",
       "      <td>2.0</td>\n",
       "      <td>0.0</td>\n",
       "    </tr>\n",
       "    <tr>\n",
       "      <th>4</th>\n",
       "      <td>1-11-2009-214345</td>\n",
       "      <td>11</td>\n",
       "      <td>1</td>\n",
       "      <td>مبايعات</td>\n",
       "      <td>Sales</td>\n",
       "      <td>بيع</td>\n",
       "      <td>Sell</td>\n",
       "      <td>20-07-2009</td>\n",
       "      <td>3</td>\n",
       "      <td>وحدة</td>\n",
       "      <td>...</td>\n",
       "      <td>3 B/R</td>\n",
       "      <td>1</td>\n",
       "      <td>178.52</td>\n",
       "      <td>699000.0</td>\n",
       "      <td>3915.53</td>\n",
       "      <td>NaN</td>\n",
       "      <td>NaN</td>\n",
       "      <td>1.0</td>\n",
       "      <td>1.0</td>\n",
       "      <td>0.0</td>\n",
       "    </tr>\n",
       "  </tbody>\n",
       "</table>\n",
       "<p>5 rows × 46 columns</p>\n",
       "</div>"
      ],
      "text/plain": [
       "     transaction_id  procedure_id  trans_group_id trans_group_ar  \\\n",
       "0    1-11-2004-2099            11               1        مبايعات   \n",
       "1   1-11-2010-15769            11               1        مبايعات   \n",
       "2  1-11-2008-211116            11               1        مبايعات   \n",
       "3    1-11-2010-3056            11               1        مبايعات   \n",
       "4  1-11-2009-214345            11               1        مبايعات   \n",
       "\n",
       "  trans_group_en procedure_name_ar procedure_name_en instance_date  \\\n",
       "0          Sales               بيع              Sell    04-10-2004   \n",
       "1          Sales               بيع              Sell    25-10-2010   \n",
       "2          Sales               بيع              Sell    18-12-2008   \n",
       "3          Sales               بيع              Sell    10-03-2010   \n",
       "4          Sales               بيع              Sell    20-07-2009   \n",
       "\n",
       "   property_type_id property_type_ar  ... rooms_en  has_parking  \\\n",
       "0                 4             فيلا  ...      NaN            0   \n",
       "1                 3             وحدة  ...    1 B/R            1   \n",
       "2                 3             وحدة  ...    2 B/R            1   \n",
       "3                 3             وحدة  ...   Studio            1   \n",
       "4                 3             وحدة  ...    3 B/R            1   \n",
       "\n",
       "  procedure_area actual_worth meter_sale_price rent_value  meter_rent_price  \\\n",
       "0         860.28    4500000.0          5230.86        NaN               NaN   \n",
       "1         100.80     928756.0          9213.85        NaN               NaN   \n",
       "2         137.45     796970.0          5798.25        NaN               NaN   \n",
       "3          47.65     519000.0         10891.92        NaN               NaN   \n",
       "4         178.52     699000.0          3915.53        NaN               NaN   \n",
       "\n",
       "  no_of_parties_role_1 no_of_parties_role_2  no_of_parties_role_3  \n",
       "0                  3.0                  1.0                   0.0  \n",
       "1                  1.0                  1.0                   0.0  \n",
       "2                  1.0                  2.0                   0.0  \n",
       "3                  1.0                  2.0                   0.0  \n",
       "4                  1.0                  1.0                   0.0  \n",
       "\n",
       "[5 rows x 46 columns]"
      ]
     },
     "execution_count": 3,
     "metadata": {},
     "output_type": "execute_result"
    }
   ],
   "source": [
    "data.head()"
   ]
  },
  {
   "cell_type": "code",
   "execution_count": 4,
   "metadata": {},
   "outputs": [
    {
     "data": {
      "text/plain": [
       "transaction_id          0.000000\n",
       "procedure_id            0.000000\n",
       "trans_group_id          0.000000\n",
       "trans_group_ar          0.000000\n",
       "trans_group_en          0.000000\n",
       "procedure_name_ar       0.000000\n",
       "procedure_name_en       0.000000\n",
       "instance_date           0.000000\n",
       "property_type_id        0.000000\n",
       "property_type_ar        0.000000\n",
       "property_type_en        0.000000\n",
       "property_sub_type_id    0.227268\n",
       "property_sub_type_ar    0.227268\n",
       "property_sub_type_en    0.227268\n",
       "property_usage_ar       0.000000\n",
       "property_usage_en       0.000000\n",
       "reg_type_id             0.000000\n",
       "reg_type_ar             0.000000\n",
       "reg_type_en             0.000000\n",
       "area_id                 0.000000\n",
       "area_name_ar            0.000000\n",
       "area_name_en            0.000000\n",
       "building_name_ar        0.311618\n",
       "building_name_en        0.310407\n",
       "project_number          0.367805\n",
       "project_name_ar         0.367805\n",
       "project_name_en         0.367805\n",
       "master_project_en       0.176249\n",
       "master_project_ar       0.176293\n",
       "nearest_landmark_ar     0.122957\n",
       "nearest_landmark_en     0.122957\n",
       "nearest_metro_ar        0.228945\n",
       "nearest_metro_en        0.228945\n",
       "nearest_mall_ar         0.233939\n",
       "nearest_mall_en         0.233939\n",
       "rooms_ar                0.235706\n",
       "rooms_en                0.235706\n",
       "has_parking             0.000000\n",
       "procedure_area          0.000000\n",
       "actual_worth            0.003575\n",
       "meter_sale_price        0.000000\n",
       "rent_value              0.968088\n",
       "meter_rent_price        0.968085\n",
       "no_of_parties_role_1    0.001067\n",
       "no_of_parties_role_2    0.001067\n",
       "no_of_parties_role_3    0.001067\n",
       "dtype: float64"
      ]
     },
     "execution_count": 4,
     "metadata": {},
     "output_type": "execute_result"
    }
   ],
   "source": [
    "data.isnull().sum()/len(data)"
   ]
  },
  {
   "cell_type": "code",
   "execution_count": 5,
   "metadata": {},
   "outputs": [],
   "source": [
    "data_ml = data[['trans_group_en', 'procedure_name_en', 'property_type_en', 'property_sub_type_en', 'reg_type_en', 'building_name_en', 'master_project_en', 'nearest_landmark_en',\\\n",
    "     'nearest_metro_en', 'nearest_mall_en', 'rooms_en', 'has_parking', 'procedure_area','meter_sale_price', 'no_of_parties_role_1' , 'no_of_parties_role_2', \n",
    "      'no_of_parties_role_3' ,'actual_worth']]"
   ]
  },
  {
   "cell_type": "code",
   "execution_count": 6,
   "metadata": {},
   "outputs": [
    {
     "data": {
      "text/html": [
       "<div>\n",
       "<style scoped>\n",
       "    .dataframe tbody tr th:only-of-type {\n",
       "        vertical-align: middle;\n",
       "    }\n",
       "\n",
       "    .dataframe tbody tr th {\n",
       "        vertical-align: top;\n",
       "    }\n",
       "\n",
       "    .dataframe thead th {\n",
       "        text-align: right;\n",
       "    }\n",
       "</style>\n",
       "<table border=\"1\" class=\"dataframe\">\n",
       "  <thead>\n",
       "    <tr style=\"text-align: right;\">\n",
       "      <th></th>\n",
       "      <th>trans_group_en</th>\n",
       "      <th>procedure_name_en</th>\n",
       "      <th>property_type_en</th>\n",
       "      <th>property_sub_type_en</th>\n",
       "      <th>reg_type_en</th>\n",
       "      <th>building_name_en</th>\n",
       "      <th>master_project_en</th>\n",
       "      <th>nearest_landmark_en</th>\n",
       "      <th>nearest_metro_en</th>\n",
       "      <th>nearest_mall_en</th>\n",
       "      <th>rooms_en</th>\n",
       "      <th>has_parking</th>\n",
       "      <th>procedure_area</th>\n",
       "      <th>meter_sale_price</th>\n",
       "      <th>no_of_parties_role_1</th>\n",
       "      <th>no_of_parties_role_2</th>\n",
       "      <th>no_of_parties_role_3</th>\n",
       "      <th>actual_worth</th>\n",
       "    </tr>\n",
       "  </thead>\n",
       "  <tbody>\n",
       "    <tr>\n",
       "      <th>0</th>\n",
       "      <td>Sales</td>\n",
       "      <td>Sell</td>\n",
       "      <td>Villa</td>\n",
       "      <td>NaN</td>\n",
       "      <td>Existing Properties</td>\n",
       "      <td>NaN</td>\n",
       "      <td>NaN</td>\n",
       "      <td>Dubai International Airport</td>\n",
       "      <td>Salah Al Din Metro Station</td>\n",
       "      <td>Dubai Mall</td>\n",
       "      <td>NaN</td>\n",
       "      <td>0</td>\n",
       "      <td>860.28</td>\n",
       "      <td>5230.86</td>\n",
       "      <td>3.0</td>\n",
       "      <td>1.0</td>\n",
       "      <td>0.0</td>\n",
       "      <td>4500000.0</td>\n",
       "    </tr>\n",
       "    <tr>\n",
       "      <th>1</th>\n",
       "      <td>Sales</td>\n",
       "      <td>Sell</td>\n",
       "      <td>Unit</td>\n",
       "      <td>Flat</td>\n",
       "      <td>Existing Properties</td>\n",
       "      <td>GREEN LAKES S1</td>\n",
       "      <td>Jumeirah Lakes Towers</td>\n",
       "      <td>Burj Al Arab</td>\n",
       "      <td>Damac Properties</td>\n",
       "      <td>Marina Mall</td>\n",
       "      <td>1 B/R</td>\n",
       "      <td>1</td>\n",
       "      <td>100.80</td>\n",
       "      <td>9213.85</td>\n",
       "      <td>1.0</td>\n",
       "      <td>1.0</td>\n",
       "      <td>0.0</td>\n",
       "      <td>928756.0</td>\n",
       "    </tr>\n",
       "    <tr>\n",
       "      <th>2</th>\n",
       "      <td>Sales</td>\n",
       "      <td>Sell</td>\n",
       "      <td>Unit</td>\n",
       "      <td>Flat</td>\n",
       "      <td>Existing Properties</td>\n",
       "      <td>SABA 2</td>\n",
       "      <td>Jumeirah Lakes Towers</td>\n",
       "      <td>Burj Al Arab</td>\n",
       "      <td>Damac Properties</td>\n",
       "      <td>Marina Mall</td>\n",
       "      <td>2 B/R</td>\n",
       "      <td>1</td>\n",
       "      <td>137.45</td>\n",
       "      <td>5798.25</td>\n",
       "      <td>1.0</td>\n",
       "      <td>2.0</td>\n",
       "      <td>0.0</td>\n",
       "      <td>796970.0</td>\n",
       "    </tr>\n",
       "    <tr>\n",
       "      <th>3</th>\n",
       "      <td>Sales</td>\n",
       "      <td>Sell</td>\n",
       "      <td>Unit</td>\n",
       "      <td>Flat</td>\n",
       "      <td>Existing Properties</td>\n",
       "      <td>THE CRESCENT  B</td>\n",
       "      <td>International Media Production Zone</td>\n",
       "      <td>Sports City Swimming Academy</td>\n",
       "      <td>Damac Properties</td>\n",
       "      <td>Marina Mall</td>\n",
       "      <td>Studio</td>\n",
       "      <td>1</td>\n",
       "      <td>47.65</td>\n",
       "      <td>10891.92</td>\n",
       "      <td>1.0</td>\n",
       "      <td>2.0</td>\n",
       "      <td>0.0</td>\n",
       "      <td>519000.0</td>\n",
       "    </tr>\n",
       "    <tr>\n",
       "      <th>4</th>\n",
       "      <td>Sales</td>\n",
       "      <td>Sell</td>\n",
       "      <td>Unit</td>\n",
       "      <td>Flat</td>\n",
       "      <td>Existing Properties</td>\n",
       "      <td>Murjan 1</td>\n",
       "      <td>Jumeriah Beach Residence  - JBR</td>\n",
       "      <td>Burj Al Arab</td>\n",
       "      <td>Jumeirah Beach Resdency</td>\n",
       "      <td>Marina Mall</td>\n",
       "      <td>3 B/R</td>\n",
       "      <td>1</td>\n",
       "      <td>178.52</td>\n",
       "      <td>3915.53</td>\n",
       "      <td>1.0</td>\n",
       "      <td>1.0</td>\n",
       "      <td>0.0</td>\n",
       "      <td>699000.0</td>\n",
       "    </tr>\n",
       "  </tbody>\n",
       "</table>\n",
       "</div>"
      ],
      "text/plain": [
       "  trans_group_en procedure_name_en property_type_en property_sub_type_en  \\\n",
       "0          Sales              Sell            Villa                  NaN   \n",
       "1          Sales              Sell             Unit                 Flat   \n",
       "2          Sales              Sell             Unit                 Flat   \n",
       "3          Sales              Sell             Unit                 Flat   \n",
       "4          Sales              Sell             Unit                 Flat   \n",
       "\n",
       "           reg_type_en building_name_en                    master_project_en  \\\n",
       "0  Existing Properties              NaN                                  NaN   \n",
       "1  Existing Properties   GREEN LAKES S1                Jumeirah Lakes Towers   \n",
       "2  Existing Properties           SABA 2                Jumeirah Lakes Towers   \n",
       "3  Existing Properties  THE CRESCENT  B  International Media Production Zone   \n",
       "4  Existing Properties         Murjan 1      Jumeriah Beach Residence  - JBR   \n",
       "\n",
       "            nearest_landmark_en            nearest_metro_en nearest_mall_en  \\\n",
       "0   Dubai International Airport  Salah Al Din Metro Station      Dubai Mall   \n",
       "1                  Burj Al Arab            Damac Properties     Marina Mall   \n",
       "2                  Burj Al Arab            Damac Properties     Marina Mall   \n",
       "3  Sports City Swimming Academy            Damac Properties     Marina Mall   \n",
       "4                  Burj Al Arab     Jumeirah Beach Resdency     Marina Mall   \n",
       "\n",
       "  rooms_en  has_parking  procedure_area  meter_sale_price  \\\n",
       "0      NaN            0          860.28           5230.86   \n",
       "1    1 B/R            1          100.80           9213.85   \n",
       "2    2 B/R            1          137.45           5798.25   \n",
       "3   Studio            1           47.65          10891.92   \n",
       "4    3 B/R            1          178.52           3915.53   \n",
       "\n",
       "   no_of_parties_role_1  no_of_parties_role_2  no_of_parties_role_3  \\\n",
       "0                   3.0                   1.0                   0.0   \n",
       "1                   1.0                   1.0                   0.0   \n",
       "2                   1.0                   2.0                   0.0   \n",
       "3                   1.0                   2.0                   0.0   \n",
       "4                   1.0                   1.0                   0.0   \n",
       "\n",
       "   actual_worth  \n",
       "0     4500000.0  \n",
       "1      928756.0  \n",
       "2      796970.0  \n",
       "3      519000.0  \n",
       "4      699000.0  "
      ]
     },
     "execution_count": 6,
     "metadata": {},
     "output_type": "execute_result"
    }
   ],
   "source": [
    "data_ml.head()"
   ]
  },
  {
   "cell_type": "code",
   "execution_count": 7,
   "metadata": {},
   "outputs": [
    {
     "data": {
      "text/plain": [
       "trans_group_en          0.000000\n",
       "procedure_name_en       0.000000\n",
       "property_type_en        0.000000\n",
       "property_sub_type_en    0.227268\n",
       "reg_type_en             0.000000\n",
       "building_name_en        0.310407\n",
       "master_project_en       0.176249\n",
       "nearest_landmark_en     0.122957\n",
       "nearest_metro_en        0.228945\n",
       "nearest_mall_en         0.233939\n",
       "rooms_en                0.235706\n",
       "has_parking             0.000000\n",
       "procedure_area          0.000000\n",
       "meter_sale_price        0.000000\n",
       "no_of_parties_role_1    0.001067\n",
       "no_of_parties_role_2    0.001067\n",
       "no_of_parties_role_3    0.001067\n",
       "actual_worth            0.003575\n",
       "dtype: float64"
      ]
     },
     "execution_count": 7,
     "metadata": {},
     "output_type": "execute_result"
    }
   ],
   "source": [
    "data_ml.isnull().sum()/len(data_ml)"
   ]
  },
  {
   "cell_type": "code",
   "execution_count": 8,
   "metadata": {},
   "outputs": [
    {
     "data": {
      "text/plain": [
       "1077416"
      ]
     },
     "execution_count": 8,
     "metadata": {},
     "output_type": "execute_result"
    }
   ],
   "source": [
    "len(data_ml)"
   ]
  },
  {
   "cell_type": "code",
   "execution_count": 9,
   "metadata": {},
   "outputs": [],
   "source": [
    "categorical_columns = data_ml.select_dtypes(include=['object']).columns"
   ]
  },
  {
   "cell_type": "code",
   "execution_count": 10,
   "metadata": {},
   "outputs": [
    {
     "data": {
      "text/plain": [
       "Index(['trans_group_en', 'procedure_name_en', 'property_type_en',\n",
       "       'property_sub_type_en', 'reg_type_en', 'building_name_en',\n",
       "       'master_project_en', 'nearest_landmark_en', 'nearest_metro_en',\n",
       "       'nearest_mall_en', 'rooms_en'],\n",
       "      dtype='object')"
      ]
     },
     "execution_count": 10,
     "metadata": {},
     "output_type": "execute_result"
    }
   ],
   "source": [
    "categorical_columns"
   ]
  },
  {
   "cell_type": "code",
   "execution_count": 11,
   "metadata": {},
   "outputs": [
    {
     "name": "stderr",
     "output_type": "stream",
     "text": [
      "C:\\Users\\Idris\\anaconda3\\lib\\site-packages\\pandas\\core\\frame.py:2963: SettingWithCopyWarning: \n",
      "A value is trying to be set on a copy of a slice from a DataFrame.\n",
      "Try using .loc[row_indexer,col_indexer] = value instead\n",
      "\n",
      "See the caveats in the documentation: https://pandas.pydata.org/pandas-docs/stable/user_guide/indexing.html#returning-a-view-versus-a-copy\n",
      "  self[k1] = value[k2]\n"
     ]
    }
   ],
   "source": [
    "data_ml[categorical_columns] = data_ml[categorical_columns].fillna(data_ml[categorical_columns].mode().iloc[0])"
   ]
  },
  {
   "cell_type": "code",
   "execution_count": 13,
   "metadata": {},
   "outputs": [],
   "source": [
    "data_ml= data_ml.fillna(data_ml.median())"
   ]
  },
  {
   "cell_type": "code",
   "execution_count": 14,
   "metadata": {},
   "outputs": [
    {
     "data": {
      "text/plain": [
       "trans_group_en          0\n",
       "procedure_name_en       0\n",
       "property_type_en        0\n",
       "property_sub_type_en    0\n",
       "reg_type_en             0\n",
       "building_name_en        0\n",
       "master_project_en       0\n",
       "nearest_landmark_en     0\n",
       "nearest_metro_en        0\n",
       "nearest_mall_en         0\n",
       "rooms_en                0\n",
       "has_parking             0\n",
       "procedure_area          0\n",
       "meter_sale_price        0\n",
       "no_of_parties_role_1    0\n",
       "no_of_parties_role_2    0\n",
       "no_of_parties_role_3    0\n",
       "actual_worth            0\n",
       "dtype: int64"
      ]
     },
     "execution_count": 14,
     "metadata": {},
     "output_type": "execute_result"
    }
   ],
   "source": [
    "data_ml.isnull().sum()"
   ]
  },
  {
   "cell_type": "code",
   "execution_count": 15,
   "metadata": {},
   "outputs": [],
   "source": [
    "cat_cols = data_ml.select_dtypes(include=['object']).columns.tolist()"
   ]
  },
  {
   "cell_type": "code",
   "execution_count": 16,
   "metadata": {},
   "outputs": [
    {
     "data": {
      "text/plain": [
       "['trans_group_en',\n",
       " 'procedure_name_en',\n",
       " 'property_type_en',\n",
       " 'property_sub_type_en',\n",
       " 'reg_type_en',\n",
       " 'building_name_en',\n",
       " 'master_project_en',\n",
       " 'nearest_landmark_en',\n",
       " 'nearest_metro_en',\n",
       " 'nearest_mall_en',\n",
       " 'rooms_en']"
      ]
     },
     "execution_count": 16,
     "metadata": {},
     "output_type": "execute_result"
    }
   ],
   "source": [
    "cat_cols"
   ]
  },
  {
   "cell_type": "code",
   "execution_count": 17,
   "metadata": {},
   "outputs": [],
   "source": [
    "data_ml = pd.get_dummies(data_ml, columns=cat_cols)"
   ]
  },
  {
   "cell_type": "code",
   "execution_count": 18,
   "metadata": {},
   "outputs": [
    {
     "data": {
      "text/plain": [
       "(1077416, 3770)"
      ]
     },
     "execution_count": 18,
     "metadata": {},
     "output_type": "execute_result"
    }
   ],
   "source": [
    "data_ml.shape"
   ]
  },
  {
   "cell_type": "code",
   "execution_count": null,
   "metadata": {},
   "outputs": [],
   "source": []
  }
 ],
 "metadata": {
  "kernelspec": {
   "display_name": "Python 3",
   "language": "python",
   "name": "python3"
  },
  "language_info": {
   "codemirror_mode": {
    "name": "ipython",
    "version": 3
   },
   "file_extension": ".py",
   "mimetype": "text/x-python",
   "name": "python",
   "nbconvert_exporter": "python",
   "pygments_lexer": "ipython3",
   "version": "3.8.3"
  }
 },
 "nbformat": 4,
 "nbformat_minor": 4
}
