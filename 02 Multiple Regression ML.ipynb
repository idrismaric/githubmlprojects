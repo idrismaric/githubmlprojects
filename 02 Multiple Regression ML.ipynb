{
 "cells": [
  {
   "cell_type": "code",
   "execution_count": 2,
   "metadata": {},
   "outputs": [],
   "source": [
    "import numpy as np\n",
    "import matplotlib.pyplot as plt\n",
    "import pandas as pd\n",
    "from sklearn.model_selection import train_test_split #for splitting the dataset\n",
    "from sklearn.linear_model import LinearRegression #for linear regression"
   ]
  },
  {
   "cell_type": "code",
   "execution_count": 3,
   "metadata": {},
   "outputs": [
    {
     "name": "stdout",
     "output_type": "stream",
     "text": [
      "(1000, 3)\n"
     ]
    }
   ],
   "source": [
    "data = pd.read_csv('student.csv')\n",
    "print(data.shape)"
   ]
  },
  {
   "cell_type": "code",
   "execution_count": 4,
   "metadata": {},
   "outputs": [
    {
     "data": {
      "text/html": [
       "<div>\n",
       "<style scoped>\n",
       "    .dataframe tbody tr th:only-of-type {\n",
       "        vertical-align: middle;\n",
       "    }\n",
       "\n",
       "    .dataframe tbody tr th {\n",
       "        vertical-align: top;\n",
       "    }\n",
       "\n",
       "    .dataframe thead th {\n",
       "        text-align: right;\n",
       "    }\n",
       "</style>\n",
       "<table border=\"1\" class=\"dataframe\">\n",
       "  <thead>\n",
       "    <tr style=\"text-align: right;\">\n",
       "      <th></th>\n",
       "      <th>Math</th>\n",
       "      <th>Reading</th>\n",
       "      <th>Writing</th>\n",
       "    </tr>\n",
       "  </thead>\n",
       "  <tbody>\n",
       "    <tr>\n",
       "      <th>0</th>\n",
       "      <td>48</td>\n",
       "      <td>68</td>\n",
       "      <td>63</td>\n",
       "    </tr>\n",
       "    <tr>\n",
       "      <th>1</th>\n",
       "      <td>62</td>\n",
       "      <td>81</td>\n",
       "      <td>72</td>\n",
       "    </tr>\n",
       "    <tr>\n",
       "      <th>2</th>\n",
       "      <td>79</td>\n",
       "      <td>80</td>\n",
       "      <td>78</td>\n",
       "    </tr>\n",
       "    <tr>\n",
       "      <th>3</th>\n",
       "      <td>76</td>\n",
       "      <td>83</td>\n",
       "      <td>79</td>\n",
       "    </tr>\n",
       "    <tr>\n",
       "      <th>4</th>\n",
       "      <td>59</td>\n",
       "      <td>64</td>\n",
       "      <td>62</td>\n",
       "    </tr>\n",
       "  </tbody>\n",
       "</table>\n",
       "</div>"
      ],
      "text/plain": [
       "   Math  Reading  Writing\n",
       "0    48       68       63\n",
       "1    62       81       72\n",
       "2    79       80       78\n",
       "3    76       83       79\n",
       "4    59       64       62"
      ]
     },
     "execution_count": 4,
     "metadata": {},
     "output_type": "execute_result"
    }
   ],
   "source": [
    "data.head()"
   ]
  },
  {
   "cell_type": "code",
   "execution_count": 5,
   "metadata": {},
   "outputs": [],
   "source": [
    "#can also use another code\n",
    "# math = data['Math'].values\n",
    "# read = data['Reading'].values\n",
    "# write = data['Writing'].values\n",
    "\n",
    "\n",
    "x = data.iloc[:,:-1].values\n",
    "y = data.iloc[:,-1].values"
   ]
  },
  {
   "cell_type": "code",
   "execution_count": 6,
   "metadata": {},
   "outputs": [],
   "source": [
    "#X = np.array([math,read]).T #transpose, instead of reshape\n",
    "#Y = np.array(write)"
   ]
  },
  {
   "cell_type": "code",
   "execution_count": 7,
   "metadata": {},
   "outputs": [
    {
     "name": "stdout",
     "output_type": "stream",
     "text": [
      "[[95 89]\n",
      " [64 70]\n",
      " [61 65]\n",
      " [86 83]\n",
      " [61 60]]\n"
     ]
    }
   ],
   "source": [
    "#splitting dataset\n",
    "\n",
    "#x_train\n",
    "print(x_train[:5])"
   ]
  },
  {
   "cell_type": "code",
   "execution_count": 8,
   "metadata": {},
   "outputs": [
    {
     "name": "stdout",
     "output_type": "stream",
     "text": [
      "Coefficients: [0.09356445 0.91854045]\n",
      "Intercept: -1.950273295291879\n"
     ]
    }
   ],
   "source": [
    "# Model Initialization\n",
    "\n",
    "reg = LinearRegression()\n",
    "# Data Fitting\n",
    "\n",
    "reg = reg.fit(x_train, y_train)\n",
    "print('Coefficients:', reg.coef_)\n",
    "print('Intercept:', reg.intercept_)"
   ]
  },
  {
   "cell_type": "code",
   "execution_count": 9,
   "metadata": {},
   "outputs": [
    {
     "name": "stdout",
     "output_type": "stream",
     "text": [
      "[[ 64  64]\n",
      " [ 68  60]\n",
      " [ 78  78]\n",
      " [ 56  69]\n",
      " [ 39  39]\n",
      " [ 81  72]\n",
      " [ 56  75]\n",
      " [ 63  62]\n",
      " [ 70  67]\n",
      " [ 69  87]\n",
      " [ 70  68]\n",
      " [ 67  63]\n",
      " [ 69  86]\n",
      " [ 84  80]\n",
      " [ 66  69]\n",
      " [ 53  49]\n",
      " [ 48  43]\n",
      " [ 76  92]\n",
      " [ 61  70]\n",
      " [ 30  47]\n",
      " [ 69  90]\n",
      " [ 58  59]\n",
      " [ 51  57]\n",
      " [ 77  92]\n",
      " [ 51  69]\n",
      " [ 82  74]\n",
      " [ 69  72]\n",
      " [ 32  56]\n",
      " [ 77  61]\n",
      " [ 62  81]\n",
      " [ 89  98]\n",
      " [ 60  64]\n",
      " [ 57  51]\n",
      " [ 65  65]\n",
      " [ 55  68]\n",
      " [ 62  77]\n",
      " [ 59  67]\n",
      " [ 46  48]\n",
      " [ 68  68]\n",
      " [ 59  71]\n",
      " [ 44  55]\n",
      " [ 73  86]\n",
      " [100  97]\n",
      " [ 59  65]\n",
      " [ 66  62]\n",
      " [ 82  74]\n",
      " [ 52  56]\n",
      " [ 83  99]\n",
      " [ 68  74]\n",
      " [ 75  76]\n",
      " [ 69  70]\n",
      " [ 56  54]\n",
      " [ 63  49]\n",
      " [ 89  72]\n",
      " [ 68  64]\n",
      " [ 75  67]\n",
      " [ 67  67]\n",
      " [100  96]\n",
      " [ 55  64]\n",
      " [ 70  65]\n",
      " [ 76 100]\n",
      " [ 52  66]\n",
      " [ 68  71]\n",
      " [ 59  64]\n",
      " [ 76  80]\n",
      " [ 91  87]\n",
      " [ 64  64]\n",
      " [ 55  62]\n",
      " [ 45  53]\n",
      " [ 54  68]\n",
      " [ 64  77]\n",
      " [ 62  59]\n",
      " [ 69  62]\n",
      " [ 30  33]\n",
      " [ 51  59]\n",
      " [ 60  66]\n",
      " [ 83  84]\n",
      " [ 57  70]\n",
      " [ 73  85]\n",
      " [ 84  98]\n",
      " [ 64  64]\n",
      " [ 42  46]\n",
      " [ 64  73]\n",
      " [ 71  72]\n",
      " [ 91  77]\n",
      " [ 39  60]\n",
      " [ 78  82]\n",
      " [ 44  37]\n",
      " [ 71  89]\n",
      " [ 58  60]\n",
      " [ 73  72]\n",
      " [ 89  84]\n",
      " [ 75  79]\n",
      " [ 65  68]\n",
      " [ 80  85]\n",
      " [ 81  78]\n",
      " [ 67  63]\n",
      " [ 74  78]\n",
      " [ 76  74]\n",
      " [ 97  78]\n",
      " [ 76  60]\n",
      " [ 65  74]\n",
      " [ 87  92]\n",
      " [ 83  85]\n",
      " [ 74  78]\n",
      " [ 72  69]\n",
      " [ 46  73]\n",
      " [ 55  57]\n",
      " [ 60  56]\n",
      " [ 65  67]\n",
      " [ 64  63]\n",
      " [ 52  57]\n",
      " [ 64  71]\n",
      " [ 79  75]\n",
      " [ 70  80]\n",
      " [ 72  65]\n",
      " [ 66  93]\n",
      " [ 64  71]\n",
      " [ 80  71]\n",
      " [ 38  50]\n",
      " [ 53  46]\n",
      " [ 87  97]\n",
      " [ 74  84]\n",
      " [ 60  60]\n",
      " [ 60  55]\n",
      " [ 50  50]\n",
      " [ 66  69]\n",
      " [ 72  64]\n",
      " [ 74  84]\n",
      " [ 57  66]\n",
      " [ 53  81]\n",
      " [ 40  55]\n",
      " [ 83  82]\n",
      " [ 76  84]\n",
      " [ 53  65]\n",
      " [ 61  71]\n",
      " [ 51  61]\n",
      " [ 61  78]\n",
      " [ 59  54]\n",
      " [ 94 100]\n",
      " [ 51  53]\n",
      " [ 78  70]\n",
      " [ 78  82]\n",
      " [ 36  44]\n",
      " [ 80  67]\n",
      " [ 76  63]\n",
      " [ 80  71]\n",
      " [ 49  57]\n",
      " [ 47  50]\n",
      " [ 61  41]\n",
      " [ 45  48]\n",
      " [ 71  77]\n",
      " [ 54  64]\n",
      " [ 65  69]\n",
      " [ 57  65]\n",
      " [ 52  59]\n",
      " [ 82  88]\n",
      " [ 58  54]\n",
      " [ 64  76]\n",
      " [ 71  70]\n",
      " [ 70  89]\n",
      " [ 65  66]\n",
      " [ 49  47]\n",
      " [ 68  69]\n",
      " [ 78  85]\n",
      " [ 78  83]\n",
      " [ 52  54]\n",
      " [ 68  72]\n",
      " [ 41  31]\n",
      " [ 90  96]\n",
      " [ 74  89]\n",
      " [ 93  82]\n",
      " [ 65  85]\n",
      " [ 76  72]\n",
      " [ 62  58]\n",
      " [ 59  72]\n",
      " [ 65  75]\n",
      " [ 65  70]\n",
      " [ 65  67]\n",
      " [ 56  67]\n",
      " [ 62  76]\n",
      " [ 66  66]\n",
      " [ 81  76]\n",
      " [ 72  75]\n",
      " [ 84  92]\n",
      " [ 78  85]\n",
      " [ 76  70]\n",
      " [ 64  75]\n",
      " [ 69  69]\n",
      " [ 87  86]\n",
      " [ 88  83]\n",
      " [ 48  57]\n",
      " [ 66  75]\n",
      " [ 69  84]\n",
      " [ 13  19]\n",
      " [ 75  76]\n",
      " [ 58  61]\n",
      " [100  95]\n",
      " [ 60  58]\n",
      " [ 67  61]]\n",
      "[ 67  58  77  66  38  70  66  63  72  87  72  61  81  76  74  44  44  87\n",
      "  70  48  83  51  56  94  62  72  75  57  67  72  92  65  48  66  67  82\n",
      "  68  49  64  66  66  90  95  63  63  75  50  96  60  75  76  52  47  82\n",
      "  61  69  66  93  63  62  96  63  75  68  80  82  65  53  51  67  82  57\n",
      "  57  31  63  57  84  66  77  91  62  42  75  76  79  55  83  45  79  61\n",
      "  69  80  75  70  89  76  68  76  74  82  62  81  85  82  73  63  72  55\n",
      "  54  68  67  52  73  85  76  66  91  71  70  40  45  96  86  63  58  49\n",
      "  72  67  84  67  75  56  83  81  63  59  67  80  55 100  51  61  74  45\n",
      "  65  66  77  58  50  46  40  74  57  68  61  60  78  54  79  63  82  57\n",
      "  48  67  90  82  53  75  33  97  85  85  88  67  58  75  76  66  57  56\n",
      "  72  72  67  80  87  93  70  84  65  85  78  53  75  85  14  73  63  99\n",
      "  63  61]\n",
      "[62.82444064 59.52453664 76.99390932 66.6686273  37.52181801 71.76335995\n",
      " 72.17987002 60.89379529 66.14144872 84.41869333 67.05998917 62.18659355\n",
      " 83.50015288 79.39237694 67.60427182 48.01712487 42.03805989 89.66634676\n",
      " 68.05499001 44.02806157 87.17431469 57.67035167 55.1783196  89.75991121\n",
      " 66.20080504 73.69400531 70.64058653 52.48205456 61.28515716 78.25249945\n",
      " 96.39392736 62.45018284 50.22846359 63.83654555 65.65652239 74.57833764\n",
      " 65.11223975 46.44363326 66.87286027 68.78640156 52.68628753 83.87441069\n",
      " 96.50459587 63.27515884 61.17448864 73.69400531 54.35334359 96.7510811\n",
      " 72.38410299 74.87613506 68.80350562 52.89052049 48.95276939 72.51187557\n",
      " 63.19869845 66.60927097 65.86075536 95.58605542 61.98236058 64.30436781\n",
      " 97.01467039 63.53874813 69.62848163 62.35661838 78.64386132 86.47711127\n",
      " 62.82444064 60.14527967 50.94277107 65.56295794 74.76546654 58.04460947\n",
      " 61.455182   31.16849522 57.0154005  64.28726374 82.9729743  67.6807322\n",
      " 82.95587023 95.9261051  62.82444064 44.23229454 71.09130473 70.82771543\n",
      " 77.29170674 56.81116753 80.66807113 36.15255936 86.44290314 58.58889212\n",
      " 71.01484434 83.53436101 77.63175642 66.59216691 83.6108214  77.27460267\n",
      " 62.18659355 76.61965151 73.1326186  78.7716339  60.27305225 72.10340963\n",
      " 90.69555573 83.89151475 76.61965151 68.16565853 69.40714459 55.5525774\n",
      " 55.10185921 65.67362646 61.90590019 55.27188405 69.25422382 74.33185241\n",
      " 78.08247461 64.49149671 89.6492427  69.25422382 70.75125505 47.53219855\n",
      " 45.26150351 95.288258   82.13089423 58.77602102 54.18331876 48.65497197\n",
      " 67.60427182 63.57295626 82.13089423 64.00657039 77.41041938 52.31202972\n",
      " 81.13589339 82.31802314 62.71377213 68.97353046 58.85248141 75.40331364\n",
      " 53.17121385 98.69883052 51.50415778 69.64558569 80.66807113 41.83382692\n",
      " 67.07709323 63.02867361 70.75125505 54.99119069 48.37427861 41.41731686\n",
      " 46.3500688  75.4204177  61.88879613 67.51070736 63.08802993 57.10896495\n",
      " 86.55357166 53.0776494  73.84692609 68.99063453 86.34933869 64.755086\n",
      " 45.80578616 67.79140072 83.42369249 81.58661159 52.51626269 70.54702208\n",
      " 30.36062329 94.6504109  86.7235965  82.07153791 82.20735462 71.29553769\n",
      " 57.12606902 69.70494201 73.02195008 68.42924782 65.67362646 64.83154639\n",
      " 73.65979718 64.84865045 75.43752177 73.67690125 90.41486238 83.42369249\n",
      " 69.45845679 72.92838563 67.88496517 85.18431301 82.5222561  54.89762624\n",
      " 73.11551454 81.66307197 16.71833319 74.87613506 59.50743257 94.66751497\n",
      " 56.93894012 60.34951264]\n"
     ]
    }
   ],
   "source": [
    "#predicting the values for the test set\n",
    "y_pred = reg.predict(x_test) #the is predicting the values for the xtest\n",
    "print(x_test) #Test dataset\n",
    "print(y_test) #actual y-values from test set\n",
    "print(y_pred) #predicted y-values for test set"
   ]
  },
  {
   "cell_type": "code",
   "execution_count": 10,
   "metadata": {},
   "outputs": [],
   "source": [
    "from sklearn.metrics import r2_score, mean_squared_error"
   ]
  },
  {
   "cell_type": "code",
   "execution_count": 11,
   "metadata": {},
   "outputs": [
    {
     "name": "stdout",
     "output_type": "stream",
     "text": [
      "RMSE= 4.414674861496004\n"
     ]
    }
   ],
   "source": [
    "rmse = np.sqrt(mean_squared_error(y_test,y_pred))\n",
    "print('RMSE=',rmse)"
   ]
  },
  {
   "cell_type": "code",
   "execution_count": 12,
   "metadata": {},
   "outputs": [
    {
     "name": "stdout",
     "output_type": "stream",
     "text": [
      "Regressor Score is = 0.9052409628220129\n"
     ]
    }
   ],
   "source": [
    "r2 = r2_score(y_test,y_pred)\n",
    "print('Regressor Score is =',r2)"
   ]
  },
  {
   "cell_type": "code",
   "execution_count": 13,
   "metadata": {},
   "outputs": [],
   "source": [
    "# Drop Math and do the same\n",
    "# Drop Read and do the same"
   ]
  },
  {
   "cell_type": "code",
   "execution_count": 14,
   "metadata": {},
   "outputs": [],
   "source": [
    "# Lasso Regression & Ridge Regression that will help automatic drop"
   ]
  },
  {
   "cell_type": "code",
   "execution_count": 15,
   "metadata": {},
   "outputs": [],
   "source": [
    "# These are regularization techniques in regression"
   ]
  },
  {
   "cell_type": "markdown",
   "metadata": {},
   "source": [
    "##### Lasso makes coefficient zero or in other words drop when the variable is less important in a model. Ridge will reduce the influence over the target variable"
   ]
  },
  {
   "cell_type": "code",
   "execution_count": 16,
   "metadata": {},
   "outputs": [],
   "source": [
    "#L1 Ridge L2 Lasso"
   ]
  },
  {
   "cell_type": "code",
   "execution_count": 17,
   "metadata": {},
   "outputs": [
    {
     "data": {
      "text/html": [
       "<div>\n",
       "<style scoped>\n",
       "    .dataframe tbody tr th:only-of-type {\n",
       "        vertical-align: middle;\n",
       "    }\n",
       "\n",
       "    .dataframe tbody tr th {\n",
       "        vertical-align: top;\n",
       "    }\n",
       "\n",
       "    .dataframe thead th {\n",
       "        text-align: right;\n",
       "    }\n",
       "</style>\n",
       "<table border=\"1\" class=\"dataframe\">\n",
       "  <thead>\n",
       "    <tr style=\"text-align: right;\">\n",
       "      <th></th>\n",
       "      <th>Math</th>\n",
       "      <th>Reading</th>\n",
       "      <th>Writing</th>\n",
       "    </tr>\n",
       "  </thead>\n",
       "  <tbody>\n",
       "    <tr>\n",
       "      <th>0</th>\n",
       "      <td>48</td>\n",
       "      <td>68</td>\n",
       "      <td>63</td>\n",
       "    </tr>\n",
       "    <tr>\n",
       "      <th>1</th>\n",
       "      <td>62</td>\n",
       "      <td>81</td>\n",
       "      <td>72</td>\n",
       "    </tr>\n",
       "    <tr>\n",
       "      <th>2</th>\n",
       "      <td>79</td>\n",
       "      <td>80</td>\n",
       "      <td>78</td>\n",
       "    </tr>\n",
       "    <tr>\n",
       "      <th>3</th>\n",
       "      <td>76</td>\n",
       "      <td>83</td>\n",
       "      <td>79</td>\n",
       "    </tr>\n",
       "    <tr>\n",
       "      <th>4</th>\n",
       "      <td>59</td>\n",
       "      <td>64</td>\n",
       "      <td>62</td>\n",
       "    </tr>\n",
       "  </tbody>\n",
       "</table>\n",
       "</div>"
      ],
      "text/plain": [
       "   Math  Reading  Writing\n",
       "0    48       68       63\n",
       "1    62       81       72\n",
       "2    79       80       78\n",
       "3    76       83       79\n",
       "4    59       64       62"
      ]
     },
     "execution_count": 17,
     "metadata": {},
     "output_type": "execute_result"
    }
   ],
   "source": [
    "data.head()"
   ]
  },
  {
   "cell_type": "code",
   "execution_count": 39,
   "metadata": {},
   "outputs": [],
   "source": [
    "math = data['Math'].values\n",
    "read = data['Reading'].values\n",
    "write = data['Writing'].values"
   ]
  },
  {
   "cell_type": "code",
   "execution_count": 40,
   "metadata": {},
   "outputs": [],
   "source": [
    "X = np.array([read,write]).T\n",
    "Y = np.array(math)"
   ]
  },
  {
   "cell_type": "code",
   "execution_count": 55,
   "metadata": {},
   "outputs": [],
   "source": [
    "x_train3, x_test3, y_train3, y_test3 = train_test_split(X, Y, test_size = 0.2, random_state = 0)"
   ]
  },
  {
   "cell_type": "code",
   "execution_count": 56,
   "metadata": {},
   "outputs": [
    {
     "data": {
      "text/plain": [
       "800"
      ]
     },
     "execution_count": 56,
     "metadata": {},
     "output_type": "execute_result"
    }
   ],
   "source": [
    "len(y_train3)"
   ]
  },
  {
   "cell_type": "code",
   "execution_count": 58,
   "metadata": {},
   "outputs": [
    {
     "name": "stdout",
     "output_type": "stream",
     "text": [
      "Coefficient is : [0.4960115  0.34198475]\n",
      "Intercept is : 9.456949299443288\n"
     ]
    }
   ],
   "source": [
    "regression = LinearRegression()\n",
    "\n",
    "reg2 = regression.fit(x_train3, y_train3)\n",
    "print('Coefficient is :', reg2.coef_)\n",
    "print('Intercept is :', reg2.intercept_)"
   ]
  },
  {
   "cell_type": "code",
   "execution_count": null,
   "metadata": {},
   "outputs": [],
   "source": []
  }
 ],
 "metadata": {
  "kernelspec": {
   "display_name": "Python 3",
   "language": "python",
   "name": "python3"
  },
  "language_info": {
   "codemirror_mode": {
    "name": "ipython",
    "version": 3
   },
   "file_extension": ".py",
   "mimetype": "text/x-python",
   "name": "python",
   "nbconvert_exporter": "python",
   "pygments_lexer": "ipython3",
   "version": "3.7.1"
  }
 },
 "nbformat": 4,
 "nbformat_minor": 2
}
