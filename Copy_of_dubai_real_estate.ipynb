{
  "cells": [
    {
      "cell_type": "markdown",
      "metadata": {
        "id": "view-in-github",
        "colab_type": "text"
      },
      "source": [
        "<a href=\"https://colab.research.google.com/github/idrismaric/githubmlprojects/blob/main/Copy_of_dubai_real_estate.ipynb\" target=\"_parent\"><img src=\"https://colab.research.google.com/assets/colab-badge.svg\" alt=\"Open In Colab\"/></a>"
      ]
    },
    {
      "cell_type": "code",
      "execution_count": 2,
      "metadata": {
        "id": "Fc5JPWMo2VH3"
      },
      "outputs": [],
      "source": [
        "import pandas as pd"
      ]
    },
    {
      "cell_type": "code",
      "source": [
        "from google.colab import drive\n",
        "drive.mount('/content/drive/')"
      ],
      "metadata": {
        "id": "xjiSuMHk2e19",
        "outputId": "1771d2fa-c9e9-40f8-86b1-b6766b9330c7",
        "colab": {
          "base_uri": "https://localhost:8080/"
        }
      },
      "execution_count": 3,
      "outputs": [
        {
          "output_type": "stream",
          "name": "stdout",
          "text": [
            "Drive already mounted at /content/drive/; to attempt to forcibly remount, call drive.mount(\"/content/drive/\", force_remount=True).\n"
          ]
        }
      ]
    },
    {
      "cell_type": "code",
      "source": [
        "%cd '/content/drive/MyDrive/'"
      ],
      "metadata": {
        "colab": {
          "base_uri": "https://localhost:8080/"
        },
        "id": "mMXfSkAxAw1B",
        "outputId": "52f0a4f7-fc71-47f4-bfca-37412794ad11"
      },
      "execution_count": 4,
      "outputs": [
        {
          "output_type": "stream",
          "name": "stdout",
          "text": [
            "/content/drive/MyDrive\n"
          ]
        }
      ]
    },
    {
      "cell_type": "code",
      "execution_count": 5,
      "metadata": {
        "id": "MZn34vY92VH5"
      },
      "outputs": [],
      "source": [
        "data = pd.read_csv('Transactions.csv')"
      ]
    },
    {
      "cell_type": "code",
      "execution_count": 6,
      "metadata": {
        "id": "2fOlU9eK2VH6",
        "outputId": "d1b73f4f-eb2f-4144-885d-3e080681b7e3",
        "colab": {
          "base_uri": "https://localhost:8080/",
          "height": 334
        }
      },
      "outputs": [
        {
          "output_type": "execute_result",
          "data": {
            "text/plain": [
              "     transaction_id  procedure_id  trans_group_id trans_group_ar  \\\n",
              "0    1-11-2004-2099            11               1        مبايعات   \n",
              "1   1-11-2010-15769            11               1        مبايعات   \n",
              "2  1-11-2008-211116            11               1        مبايعات   \n",
              "3    1-11-2010-3056            11               1        مبايعات   \n",
              "4  1-11-2009-214345            11               1        مبايعات   \n",
              "\n",
              "  trans_group_en procedure_name_ar procedure_name_en instance_date  \\\n",
              "0          Sales               بيع              Sell    04-10-2004   \n",
              "1          Sales               بيع              Sell    25-10-2010   \n",
              "2          Sales               بيع              Sell    18-12-2008   \n",
              "3          Sales               بيع              Sell    10-03-2010   \n",
              "4          Sales               بيع              Sell    20-07-2009   \n",
              "\n",
              "   property_type_id property_type_ar  ... rooms_en  has_parking  \\\n",
              "0                 4             فيلا  ...      NaN            0   \n",
              "1                 3             وحدة  ...    1 B/R            1   \n",
              "2                 3             وحدة  ...    2 B/R            1   \n",
              "3                 3             وحدة  ...   Studio            1   \n",
              "4                 3             وحدة  ...    3 B/R            1   \n",
              "\n",
              "  procedure_area actual_worth meter_sale_price rent_value  meter_rent_price  \\\n",
              "0         860.28    4500000.0          5230.86        NaN               NaN   \n",
              "1         100.80     928756.0          9213.85        NaN               NaN   \n",
              "2         137.45     796970.0          5798.25        NaN               NaN   \n",
              "3          47.65     519000.0         10891.92        NaN               NaN   \n",
              "4         178.52     699000.0          3915.53        NaN               NaN   \n",
              "\n",
              "  no_of_parties_role_1 no_of_parties_role_2  no_of_parties_role_3  \n",
              "0                  3.0                  1.0                   0.0  \n",
              "1                  1.0                  1.0                   0.0  \n",
              "2                  1.0                  2.0                   0.0  \n",
              "3                  1.0                  2.0                   0.0  \n",
              "4                  1.0                  1.0                   0.0  \n",
              "\n",
              "[5 rows x 46 columns]"
            ],
            "text/html": [
              "\n",
              "  <div id=\"df-3b713216-7725-4754-a32b-f26a8f2c61c1\">\n",
              "    <div class=\"colab-df-container\">\n",
              "      <div>\n",
              "<style scoped>\n",
              "    .dataframe tbody tr th:only-of-type {\n",
              "        vertical-align: middle;\n",
              "    }\n",
              "\n",
              "    .dataframe tbody tr th {\n",
              "        vertical-align: top;\n",
              "    }\n",
              "\n",
              "    .dataframe thead th {\n",
              "        text-align: right;\n",
              "    }\n",
              "</style>\n",
              "<table border=\"1\" class=\"dataframe\">\n",
              "  <thead>\n",
              "    <tr style=\"text-align: right;\">\n",
              "      <th></th>\n",
              "      <th>transaction_id</th>\n",
              "      <th>procedure_id</th>\n",
              "      <th>trans_group_id</th>\n",
              "      <th>trans_group_ar</th>\n",
              "      <th>trans_group_en</th>\n",
              "      <th>procedure_name_ar</th>\n",
              "      <th>procedure_name_en</th>\n",
              "      <th>instance_date</th>\n",
              "      <th>property_type_id</th>\n",
              "      <th>property_type_ar</th>\n",
              "      <th>...</th>\n",
              "      <th>rooms_en</th>\n",
              "      <th>has_parking</th>\n",
              "      <th>procedure_area</th>\n",
              "      <th>actual_worth</th>\n",
              "      <th>meter_sale_price</th>\n",
              "      <th>rent_value</th>\n",
              "      <th>meter_rent_price</th>\n",
              "      <th>no_of_parties_role_1</th>\n",
              "      <th>no_of_parties_role_2</th>\n",
              "      <th>no_of_parties_role_3</th>\n",
              "    </tr>\n",
              "  </thead>\n",
              "  <tbody>\n",
              "    <tr>\n",
              "      <th>0</th>\n",
              "      <td>1-11-2004-2099</td>\n",
              "      <td>11</td>\n",
              "      <td>1</td>\n",
              "      <td>مبايعات</td>\n",
              "      <td>Sales</td>\n",
              "      <td>بيع</td>\n",
              "      <td>Sell</td>\n",
              "      <td>04-10-2004</td>\n",
              "      <td>4</td>\n",
              "      <td>فيلا</td>\n",
              "      <td>...</td>\n",
              "      <td>NaN</td>\n",
              "      <td>0</td>\n",
              "      <td>860.28</td>\n",
              "      <td>4500000.0</td>\n",
              "      <td>5230.86</td>\n",
              "      <td>NaN</td>\n",
              "      <td>NaN</td>\n",
              "      <td>3.0</td>\n",
              "      <td>1.0</td>\n",
              "      <td>0.0</td>\n",
              "    </tr>\n",
              "    <tr>\n",
              "      <th>1</th>\n",
              "      <td>1-11-2010-15769</td>\n",
              "      <td>11</td>\n",
              "      <td>1</td>\n",
              "      <td>مبايعات</td>\n",
              "      <td>Sales</td>\n",
              "      <td>بيع</td>\n",
              "      <td>Sell</td>\n",
              "      <td>25-10-2010</td>\n",
              "      <td>3</td>\n",
              "      <td>وحدة</td>\n",
              "      <td>...</td>\n",
              "      <td>1 B/R</td>\n",
              "      <td>1</td>\n",
              "      <td>100.80</td>\n",
              "      <td>928756.0</td>\n",
              "      <td>9213.85</td>\n",
              "      <td>NaN</td>\n",
              "      <td>NaN</td>\n",
              "      <td>1.0</td>\n",
              "      <td>1.0</td>\n",
              "      <td>0.0</td>\n",
              "    </tr>\n",
              "    <tr>\n",
              "      <th>2</th>\n",
              "      <td>1-11-2008-211116</td>\n",
              "      <td>11</td>\n",
              "      <td>1</td>\n",
              "      <td>مبايعات</td>\n",
              "      <td>Sales</td>\n",
              "      <td>بيع</td>\n",
              "      <td>Sell</td>\n",
              "      <td>18-12-2008</td>\n",
              "      <td>3</td>\n",
              "      <td>وحدة</td>\n",
              "      <td>...</td>\n",
              "      <td>2 B/R</td>\n",
              "      <td>1</td>\n",
              "      <td>137.45</td>\n",
              "      <td>796970.0</td>\n",
              "      <td>5798.25</td>\n",
              "      <td>NaN</td>\n",
              "      <td>NaN</td>\n",
              "      <td>1.0</td>\n",
              "      <td>2.0</td>\n",
              "      <td>0.0</td>\n",
              "    </tr>\n",
              "    <tr>\n",
              "      <th>3</th>\n",
              "      <td>1-11-2010-3056</td>\n",
              "      <td>11</td>\n",
              "      <td>1</td>\n",
              "      <td>مبايعات</td>\n",
              "      <td>Sales</td>\n",
              "      <td>بيع</td>\n",
              "      <td>Sell</td>\n",
              "      <td>10-03-2010</td>\n",
              "      <td>3</td>\n",
              "      <td>وحدة</td>\n",
              "      <td>...</td>\n",
              "      <td>Studio</td>\n",
              "      <td>1</td>\n",
              "      <td>47.65</td>\n",
              "      <td>519000.0</td>\n",
              "      <td>10891.92</td>\n",
              "      <td>NaN</td>\n",
              "      <td>NaN</td>\n",
              "      <td>1.0</td>\n",
              "      <td>2.0</td>\n",
              "      <td>0.0</td>\n",
              "    </tr>\n",
              "    <tr>\n",
              "      <th>4</th>\n",
              "      <td>1-11-2009-214345</td>\n",
              "      <td>11</td>\n",
              "      <td>1</td>\n",
              "      <td>مبايعات</td>\n",
              "      <td>Sales</td>\n",
              "      <td>بيع</td>\n",
              "      <td>Sell</td>\n",
              "      <td>20-07-2009</td>\n",
              "      <td>3</td>\n",
              "      <td>وحدة</td>\n",
              "      <td>...</td>\n",
              "      <td>3 B/R</td>\n",
              "      <td>1</td>\n",
              "      <td>178.52</td>\n",
              "      <td>699000.0</td>\n",
              "      <td>3915.53</td>\n",
              "      <td>NaN</td>\n",
              "      <td>NaN</td>\n",
              "      <td>1.0</td>\n",
              "      <td>1.0</td>\n",
              "      <td>0.0</td>\n",
              "    </tr>\n",
              "  </tbody>\n",
              "</table>\n",
              "<p>5 rows × 46 columns</p>\n",
              "</div>\n",
              "      <button class=\"colab-df-convert\" onclick=\"convertToInteractive('df-3b713216-7725-4754-a32b-f26a8f2c61c1')\"\n",
              "              title=\"Convert this dataframe to an interactive table.\"\n",
              "              style=\"display:none;\">\n",
              "        \n",
              "  <svg xmlns=\"http://www.w3.org/2000/svg\" height=\"24px\"viewBox=\"0 0 24 24\"\n",
              "       width=\"24px\">\n",
              "    <path d=\"M0 0h24v24H0V0z\" fill=\"none\"/>\n",
              "    <path d=\"M18.56 5.44l.94 2.06.94-2.06 2.06-.94-2.06-.94-.94-2.06-.94 2.06-2.06.94zm-11 1L8.5 8.5l.94-2.06 2.06-.94-2.06-.94L8.5 2.5l-.94 2.06-2.06.94zm10 10l.94 2.06.94-2.06 2.06-.94-2.06-.94-.94-2.06-.94 2.06-2.06.94z\"/><path d=\"M17.41 7.96l-1.37-1.37c-.4-.4-.92-.59-1.43-.59-.52 0-1.04.2-1.43.59L10.3 9.45l-7.72 7.72c-.78.78-.78 2.05 0 2.83L4 21.41c.39.39.9.59 1.41.59.51 0 1.02-.2 1.41-.59l7.78-7.78 2.81-2.81c.8-.78.8-2.07 0-2.86zM5.41 20L4 18.59l7.72-7.72 1.47 1.35L5.41 20z\"/>\n",
              "  </svg>\n",
              "      </button>\n",
              "      \n",
              "  <style>\n",
              "    .colab-df-container {\n",
              "      display:flex;\n",
              "      flex-wrap:wrap;\n",
              "      gap: 12px;\n",
              "    }\n",
              "\n",
              "    .colab-df-convert {\n",
              "      background-color: #E8F0FE;\n",
              "      border: none;\n",
              "      border-radius: 50%;\n",
              "      cursor: pointer;\n",
              "      display: none;\n",
              "      fill: #1967D2;\n",
              "      height: 32px;\n",
              "      padding: 0 0 0 0;\n",
              "      width: 32px;\n",
              "    }\n",
              "\n",
              "    .colab-df-convert:hover {\n",
              "      background-color: #E2EBFA;\n",
              "      box-shadow: 0px 1px 2px rgba(60, 64, 67, 0.3), 0px 1px 3px 1px rgba(60, 64, 67, 0.15);\n",
              "      fill: #174EA6;\n",
              "    }\n",
              "\n",
              "    [theme=dark] .colab-df-convert {\n",
              "      background-color: #3B4455;\n",
              "      fill: #D2E3FC;\n",
              "    }\n",
              "\n",
              "    [theme=dark] .colab-df-convert:hover {\n",
              "      background-color: #434B5C;\n",
              "      box-shadow: 0px 1px 3px 1px rgba(0, 0, 0, 0.15);\n",
              "      filter: drop-shadow(0px 1px 2px rgba(0, 0, 0, 0.3));\n",
              "      fill: #FFFFFF;\n",
              "    }\n",
              "  </style>\n",
              "\n",
              "      <script>\n",
              "        const buttonEl =\n",
              "          document.querySelector('#df-3b713216-7725-4754-a32b-f26a8f2c61c1 button.colab-df-convert');\n",
              "        buttonEl.style.display =\n",
              "          google.colab.kernel.accessAllowed ? 'block' : 'none';\n",
              "\n",
              "        async function convertToInteractive(key) {\n",
              "          const element = document.querySelector('#df-3b713216-7725-4754-a32b-f26a8f2c61c1');\n",
              "          const dataTable =\n",
              "            await google.colab.kernel.invokeFunction('convertToInteractive',\n",
              "                                                     [key], {});\n",
              "          if (!dataTable) return;\n",
              "\n",
              "          const docLinkHtml = 'Like what you see? Visit the ' +\n",
              "            '<a target=\"_blank\" href=https://colab.research.google.com/notebooks/data_table.ipynb>data table notebook</a>'\n",
              "            + ' to learn more about interactive tables.';\n",
              "          element.innerHTML = '';\n",
              "          dataTable['output_type'] = 'display_data';\n",
              "          await google.colab.output.renderOutput(dataTable, element);\n",
              "          const docLink = document.createElement('div');\n",
              "          docLink.innerHTML = docLinkHtml;\n",
              "          element.appendChild(docLink);\n",
              "        }\n",
              "      </script>\n",
              "    </div>\n",
              "  </div>\n",
              "  "
            ]
          },
          "metadata": {},
          "execution_count": 6
        }
      ],
      "source": [
        "data.head()"
      ]
    },
    {
      "cell_type": "code",
      "execution_count": 6,
      "metadata": {
        "id": "wf5ex4Xq2VH7",
        "outputId": "a6867499-5424-407c-cc53-b46bebd64f3d",
        "colab": {
          "base_uri": "https://localhost:8080/"
        }
      },
      "outputs": [
        {
          "output_type": "execute_result",
          "data": {
            "text/plain": [
              "transaction_id          0.000000\n",
              "procedure_id            0.000000\n",
              "trans_group_id          0.000000\n",
              "trans_group_ar          0.000000\n",
              "trans_group_en          0.000000\n",
              "procedure_name_ar       0.000000\n",
              "procedure_name_en       0.000000\n",
              "instance_date           0.000000\n",
              "property_type_id        0.000000\n",
              "property_type_ar        0.000000\n",
              "property_type_en        0.000000\n",
              "property_sub_type_id    0.227268\n",
              "property_sub_type_ar    0.227268\n",
              "property_sub_type_en    0.227268\n",
              "property_usage_ar       0.000000\n",
              "property_usage_en       0.000000\n",
              "reg_type_id             0.000000\n",
              "reg_type_ar             0.000000\n",
              "reg_type_en             0.000000\n",
              "area_id                 0.000000\n",
              "area_name_ar            0.000000\n",
              "area_name_en            0.000000\n",
              "building_name_ar        0.311618\n",
              "building_name_en        0.310407\n",
              "project_number          0.367805\n",
              "project_name_ar         0.367805\n",
              "project_name_en         0.367805\n",
              "master_project_en       0.176249\n",
              "master_project_ar       0.176293\n",
              "nearest_landmark_ar     0.122957\n",
              "nearest_landmark_en     0.122957\n",
              "nearest_metro_ar        0.228945\n",
              "nearest_metro_en        0.228945\n",
              "nearest_mall_ar         0.233939\n",
              "nearest_mall_en         0.233939\n",
              "rooms_ar                0.235706\n",
              "rooms_en                0.235706\n",
              "has_parking             0.000000\n",
              "procedure_area          0.000000\n",
              "actual_worth            0.003575\n",
              "meter_sale_price        0.000000\n",
              "rent_value              0.968088\n",
              "meter_rent_price        0.968085\n",
              "no_of_parties_role_1    0.001067\n",
              "no_of_parties_role_2    0.001067\n",
              "no_of_parties_role_3    0.001067\n",
              "dtype: float64"
            ]
          },
          "metadata": {},
          "execution_count": 6
        }
      ],
      "source": [
        "data.isnull().sum()/len(data)"
      ]
    },
    {
      "cell_type": "code",
      "execution_count": 7,
      "metadata": {
        "id": "CUMS5XQa2VH7"
      },
      "outputs": [],
      "source": [
        "data_ml = data[['trans_group_en', 'procedure_name_en', 'property_type_en', 'property_sub_type_en', 'reg_type_en', 'building_name_en', 'master_project_en', 'nearest_landmark_en',\\\n",
        "     'nearest_metro_en', 'nearest_mall_en', 'rooms_en', 'has_parking', 'procedure_area','meter_sale_price', 'no_of_parties_role_1' , 'no_of_parties_role_2',\n",
        "      'no_of_parties_role_3' ,'actual_worth']]"
      ]
    },
    {
      "cell_type": "code",
      "execution_count": 9,
      "metadata": {
        "id": "7n8MLOlI2VH8",
        "outputId": "46050313-7cb8-41f5-ef4b-8ce07c3ffd6c",
        "colab": {
          "base_uri": "https://localhost:8080/",
          "height": 357
        }
      },
      "outputs": [
        {
          "output_type": "execute_result",
          "data": {
            "text/plain": [
              "  trans_group_en procedure_name_en property_type_en property_sub_type_en  \\\n",
              "0          Sales              Sell            Villa                  NaN   \n",
              "1          Sales              Sell             Unit                 Flat   \n",
              "2          Sales              Sell             Unit                 Flat   \n",
              "3          Sales              Sell             Unit                 Flat   \n",
              "4          Sales              Sell             Unit                 Flat   \n",
              "\n",
              "           reg_type_en building_name_en                    master_project_en  \\\n",
              "0  Existing Properties              NaN                                  NaN   \n",
              "1  Existing Properties   GREEN LAKES S1                Jumeirah Lakes Towers   \n",
              "2  Existing Properties           SABA 2                Jumeirah Lakes Towers   \n",
              "3  Existing Properties  THE CRESCENT  B  International Media Production Zone   \n",
              "4  Existing Properties         Murjan 1      Jumeriah Beach Residence  - JBR   \n",
              "\n",
              "            nearest_landmark_en            nearest_metro_en nearest_mall_en  \\\n",
              "0   Dubai International Airport  Salah Al Din Metro Station      Dubai Mall   \n",
              "1                  Burj Al Arab            Damac Properties     Marina Mall   \n",
              "2                  Burj Al Arab            Damac Properties     Marina Mall   \n",
              "3  Sports City Swimming Academy            Damac Properties     Marina Mall   \n",
              "4                  Burj Al Arab     Jumeirah Beach Resdency     Marina Mall   \n",
              "\n",
              "  rooms_en  has_parking  procedure_area  meter_sale_price  \\\n",
              "0      NaN            0          860.28           5230.86   \n",
              "1    1 B/R            1          100.80           9213.85   \n",
              "2    2 B/R            1          137.45           5798.25   \n",
              "3   Studio            1           47.65          10891.92   \n",
              "4    3 B/R            1          178.52           3915.53   \n",
              "\n",
              "   no_of_parties_role_1  no_of_parties_role_2  no_of_parties_role_3  \\\n",
              "0                   3.0                   1.0                   0.0   \n",
              "1                   1.0                   1.0                   0.0   \n",
              "2                   1.0                   2.0                   0.0   \n",
              "3                   1.0                   2.0                   0.0   \n",
              "4                   1.0                   1.0                   0.0   \n",
              "\n",
              "   actual_worth  \n",
              "0     4500000.0  \n",
              "1      928756.0  \n",
              "2      796970.0  \n",
              "3      519000.0  \n",
              "4      699000.0  "
            ],
            "text/html": [
              "\n",
              "  <div id=\"df-ca20b763-882d-426e-ade8-cd6b1f311685\">\n",
              "    <div class=\"colab-df-container\">\n",
              "      <div>\n",
              "<style scoped>\n",
              "    .dataframe tbody tr th:only-of-type {\n",
              "        vertical-align: middle;\n",
              "    }\n",
              "\n",
              "    .dataframe tbody tr th {\n",
              "        vertical-align: top;\n",
              "    }\n",
              "\n",
              "    .dataframe thead th {\n",
              "        text-align: right;\n",
              "    }\n",
              "</style>\n",
              "<table border=\"1\" class=\"dataframe\">\n",
              "  <thead>\n",
              "    <tr style=\"text-align: right;\">\n",
              "      <th></th>\n",
              "      <th>trans_group_en</th>\n",
              "      <th>procedure_name_en</th>\n",
              "      <th>property_type_en</th>\n",
              "      <th>property_sub_type_en</th>\n",
              "      <th>reg_type_en</th>\n",
              "      <th>building_name_en</th>\n",
              "      <th>master_project_en</th>\n",
              "      <th>nearest_landmark_en</th>\n",
              "      <th>nearest_metro_en</th>\n",
              "      <th>nearest_mall_en</th>\n",
              "      <th>rooms_en</th>\n",
              "      <th>has_parking</th>\n",
              "      <th>procedure_area</th>\n",
              "      <th>meter_sale_price</th>\n",
              "      <th>no_of_parties_role_1</th>\n",
              "      <th>no_of_parties_role_2</th>\n",
              "      <th>no_of_parties_role_3</th>\n",
              "      <th>actual_worth</th>\n",
              "    </tr>\n",
              "  </thead>\n",
              "  <tbody>\n",
              "    <tr>\n",
              "      <th>0</th>\n",
              "      <td>Sales</td>\n",
              "      <td>Sell</td>\n",
              "      <td>Villa</td>\n",
              "      <td>NaN</td>\n",
              "      <td>Existing Properties</td>\n",
              "      <td>NaN</td>\n",
              "      <td>NaN</td>\n",
              "      <td>Dubai International Airport</td>\n",
              "      <td>Salah Al Din Metro Station</td>\n",
              "      <td>Dubai Mall</td>\n",
              "      <td>NaN</td>\n",
              "      <td>0</td>\n",
              "      <td>860.28</td>\n",
              "      <td>5230.86</td>\n",
              "      <td>3.0</td>\n",
              "      <td>1.0</td>\n",
              "      <td>0.0</td>\n",
              "      <td>4500000.0</td>\n",
              "    </tr>\n",
              "    <tr>\n",
              "      <th>1</th>\n",
              "      <td>Sales</td>\n",
              "      <td>Sell</td>\n",
              "      <td>Unit</td>\n",
              "      <td>Flat</td>\n",
              "      <td>Existing Properties</td>\n",
              "      <td>GREEN LAKES S1</td>\n",
              "      <td>Jumeirah Lakes Towers</td>\n",
              "      <td>Burj Al Arab</td>\n",
              "      <td>Damac Properties</td>\n",
              "      <td>Marina Mall</td>\n",
              "      <td>1 B/R</td>\n",
              "      <td>1</td>\n",
              "      <td>100.80</td>\n",
              "      <td>9213.85</td>\n",
              "      <td>1.0</td>\n",
              "      <td>1.0</td>\n",
              "      <td>0.0</td>\n",
              "      <td>928756.0</td>\n",
              "    </tr>\n",
              "    <tr>\n",
              "      <th>2</th>\n",
              "      <td>Sales</td>\n",
              "      <td>Sell</td>\n",
              "      <td>Unit</td>\n",
              "      <td>Flat</td>\n",
              "      <td>Existing Properties</td>\n",
              "      <td>SABA 2</td>\n",
              "      <td>Jumeirah Lakes Towers</td>\n",
              "      <td>Burj Al Arab</td>\n",
              "      <td>Damac Properties</td>\n",
              "      <td>Marina Mall</td>\n",
              "      <td>2 B/R</td>\n",
              "      <td>1</td>\n",
              "      <td>137.45</td>\n",
              "      <td>5798.25</td>\n",
              "      <td>1.0</td>\n",
              "      <td>2.0</td>\n",
              "      <td>0.0</td>\n",
              "      <td>796970.0</td>\n",
              "    </tr>\n",
              "    <tr>\n",
              "      <th>3</th>\n",
              "      <td>Sales</td>\n",
              "      <td>Sell</td>\n",
              "      <td>Unit</td>\n",
              "      <td>Flat</td>\n",
              "      <td>Existing Properties</td>\n",
              "      <td>THE CRESCENT  B</td>\n",
              "      <td>International Media Production Zone</td>\n",
              "      <td>Sports City Swimming Academy</td>\n",
              "      <td>Damac Properties</td>\n",
              "      <td>Marina Mall</td>\n",
              "      <td>Studio</td>\n",
              "      <td>1</td>\n",
              "      <td>47.65</td>\n",
              "      <td>10891.92</td>\n",
              "      <td>1.0</td>\n",
              "      <td>2.0</td>\n",
              "      <td>0.0</td>\n",
              "      <td>519000.0</td>\n",
              "    </tr>\n",
              "    <tr>\n",
              "      <th>4</th>\n",
              "      <td>Sales</td>\n",
              "      <td>Sell</td>\n",
              "      <td>Unit</td>\n",
              "      <td>Flat</td>\n",
              "      <td>Existing Properties</td>\n",
              "      <td>Murjan 1</td>\n",
              "      <td>Jumeriah Beach Residence  - JBR</td>\n",
              "      <td>Burj Al Arab</td>\n",
              "      <td>Jumeirah Beach Resdency</td>\n",
              "      <td>Marina Mall</td>\n",
              "      <td>3 B/R</td>\n",
              "      <td>1</td>\n",
              "      <td>178.52</td>\n",
              "      <td>3915.53</td>\n",
              "      <td>1.0</td>\n",
              "      <td>1.0</td>\n",
              "      <td>0.0</td>\n",
              "      <td>699000.0</td>\n",
              "    </tr>\n",
              "  </tbody>\n",
              "</table>\n",
              "</div>\n",
              "      <button class=\"colab-df-convert\" onclick=\"convertToInteractive('df-ca20b763-882d-426e-ade8-cd6b1f311685')\"\n",
              "              title=\"Convert this dataframe to an interactive table.\"\n",
              "              style=\"display:none;\">\n",
              "        \n",
              "  <svg xmlns=\"http://www.w3.org/2000/svg\" height=\"24px\"viewBox=\"0 0 24 24\"\n",
              "       width=\"24px\">\n",
              "    <path d=\"M0 0h24v24H0V0z\" fill=\"none\"/>\n",
              "    <path d=\"M18.56 5.44l.94 2.06.94-2.06 2.06-.94-2.06-.94-.94-2.06-.94 2.06-2.06.94zm-11 1L8.5 8.5l.94-2.06 2.06-.94-2.06-.94L8.5 2.5l-.94 2.06-2.06.94zm10 10l.94 2.06.94-2.06 2.06-.94-2.06-.94-.94-2.06-.94 2.06-2.06.94z\"/><path d=\"M17.41 7.96l-1.37-1.37c-.4-.4-.92-.59-1.43-.59-.52 0-1.04.2-1.43.59L10.3 9.45l-7.72 7.72c-.78.78-.78 2.05 0 2.83L4 21.41c.39.39.9.59 1.41.59.51 0 1.02-.2 1.41-.59l7.78-7.78 2.81-2.81c.8-.78.8-2.07 0-2.86zM5.41 20L4 18.59l7.72-7.72 1.47 1.35L5.41 20z\"/>\n",
              "  </svg>\n",
              "      </button>\n",
              "      \n",
              "  <style>\n",
              "    .colab-df-container {\n",
              "      display:flex;\n",
              "      flex-wrap:wrap;\n",
              "      gap: 12px;\n",
              "    }\n",
              "\n",
              "    .colab-df-convert {\n",
              "      background-color: #E8F0FE;\n",
              "      border: none;\n",
              "      border-radius: 50%;\n",
              "      cursor: pointer;\n",
              "      display: none;\n",
              "      fill: #1967D2;\n",
              "      height: 32px;\n",
              "      padding: 0 0 0 0;\n",
              "      width: 32px;\n",
              "    }\n",
              "\n",
              "    .colab-df-convert:hover {\n",
              "      background-color: #E2EBFA;\n",
              "      box-shadow: 0px 1px 2px rgba(60, 64, 67, 0.3), 0px 1px 3px 1px rgba(60, 64, 67, 0.15);\n",
              "      fill: #174EA6;\n",
              "    }\n",
              "\n",
              "    [theme=dark] .colab-df-convert {\n",
              "      background-color: #3B4455;\n",
              "      fill: #D2E3FC;\n",
              "    }\n",
              "\n",
              "    [theme=dark] .colab-df-convert:hover {\n",
              "      background-color: #434B5C;\n",
              "      box-shadow: 0px 1px 3px 1px rgba(0, 0, 0, 0.15);\n",
              "      filter: drop-shadow(0px 1px 2px rgba(0, 0, 0, 0.3));\n",
              "      fill: #FFFFFF;\n",
              "    }\n",
              "  </style>\n",
              "\n",
              "      <script>\n",
              "        const buttonEl =\n",
              "          document.querySelector('#df-ca20b763-882d-426e-ade8-cd6b1f311685 button.colab-df-convert');\n",
              "        buttonEl.style.display =\n",
              "          google.colab.kernel.accessAllowed ? 'block' : 'none';\n",
              "\n",
              "        async function convertToInteractive(key) {\n",
              "          const element = document.querySelector('#df-ca20b763-882d-426e-ade8-cd6b1f311685');\n",
              "          const dataTable =\n",
              "            await google.colab.kernel.invokeFunction('convertToInteractive',\n",
              "                                                     [key], {});\n",
              "          if (!dataTable) return;\n",
              "\n",
              "          const docLinkHtml = 'Like what you see? Visit the ' +\n",
              "            '<a target=\"_blank\" href=https://colab.research.google.com/notebooks/data_table.ipynb>data table notebook</a>'\n",
              "            + ' to learn more about interactive tables.';\n",
              "          element.innerHTML = '';\n",
              "          dataTable['output_type'] = 'display_data';\n",
              "          await google.colab.output.renderOutput(dataTable, element);\n",
              "          const docLink = document.createElement('div');\n",
              "          docLink.innerHTML = docLinkHtml;\n",
              "          element.appendChild(docLink);\n",
              "        }\n",
              "      </script>\n",
              "    </div>\n",
              "  </div>\n",
              "  "
            ]
          },
          "metadata": {},
          "execution_count": 9
        }
      ],
      "source": [
        "data_ml.head()"
      ]
    },
    {
      "cell_type": "code",
      "execution_count": 10,
      "metadata": {
        "id": "a2dWT3mL2VH8",
        "outputId": "5771aabd-dd43-4c6e-db48-af1beccabd17",
        "colab": {
          "base_uri": "https://localhost:8080/"
        }
      },
      "outputs": [
        {
          "output_type": "execute_result",
          "data": {
            "text/plain": [
              "trans_group_en          0.000000\n",
              "procedure_name_en       0.000000\n",
              "property_type_en        0.000000\n",
              "property_sub_type_en    0.227268\n",
              "reg_type_en             0.000000\n",
              "building_name_en        0.310407\n",
              "master_project_en       0.176249\n",
              "nearest_landmark_en     0.122957\n",
              "nearest_metro_en        0.228945\n",
              "nearest_mall_en         0.233939\n",
              "rooms_en                0.235706\n",
              "has_parking             0.000000\n",
              "procedure_area          0.000000\n",
              "meter_sale_price        0.000000\n",
              "no_of_parties_role_1    0.001067\n",
              "no_of_parties_role_2    0.001067\n",
              "no_of_parties_role_3    0.001067\n",
              "actual_worth            0.003575\n",
              "dtype: float64"
            ]
          },
          "metadata": {},
          "execution_count": 10
        }
      ],
      "source": [
        "data_ml.isnull().sum()/len(data_ml)"
      ]
    },
    {
      "cell_type": "code",
      "execution_count": 11,
      "metadata": {
        "id": "56KjOti42VH9",
        "outputId": "b6d7e0d9-df9d-40e1-cc05-34bb9c7d74f2",
        "colab": {
          "base_uri": "https://localhost:8080/"
        }
      },
      "outputs": [
        {
          "output_type": "execute_result",
          "data": {
            "text/plain": [
              "1077416"
            ]
          },
          "metadata": {},
          "execution_count": 11
        }
      ],
      "source": [
        "len(data_ml)"
      ]
    },
    {
      "cell_type": "code",
      "execution_count": 8,
      "metadata": {
        "id": "5_sSa4zN2VH9"
      },
      "outputs": [],
      "source": [
        "categorical_columns = data_ml.select_dtypes(include=['object']).columns"
      ]
    },
    {
      "cell_type": "code",
      "execution_count": 9,
      "metadata": {
        "id": "1Iva6Qzr2VH-",
        "outputId": "d5bbc134-d49e-4544-f4e6-f9b4742702bf",
        "colab": {
          "base_uri": "https://localhost:8080/"
        }
      },
      "outputs": [
        {
          "output_type": "execute_result",
          "data": {
            "text/plain": [
              "Index(['trans_group_en', 'procedure_name_en', 'property_type_en',\n",
              "       'property_sub_type_en', 'reg_type_en', 'building_name_en',\n",
              "       'master_project_en', 'nearest_landmark_en', 'nearest_metro_en',\n",
              "       'nearest_mall_en', 'rooms_en'],\n",
              "      dtype='object')"
            ]
          },
          "metadata": {},
          "execution_count": 9
        }
      ],
      "source": [
        "categorical_columns"
      ]
    },
    {
      "cell_type": "code",
      "execution_count": 10,
      "metadata": {
        "id": "6kTyDr392VH_",
        "outputId": "e80e696b-5d63-47a6-ba1c-16d1b1d6ad00",
        "colab": {
          "base_uri": "https://localhost:8080/"
        }
      },
      "outputs": [
        {
          "output_type": "stream",
          "name": "stderr",
          "text": [
            "<ipython-input-10-f67ea27c7946>:1: SettingWithCopyWarning: \n",
            "A value is trying to be set on a copy of a slice from a DataFrame.\n",
            "Try using .loc[row_indexer,col_indexer] = value instead\n",
            "\n",
            "See the caveats in the documentation: https://pandas.pydata.org/pandas-docs/stable/user_guide/indexing.html#returning-a-view-versus-a-copy\n",
            "  data_ml[categorical_columns] = data_ml[categorical_columns].fillna(data_ml[categorical_columns].mode().iloc[0])\n"
          ]
        }
      ],
      "source": [
        "data_ml[categorical_columns] = data_ml[categorical_columns].fillna(data_ml[categorical_columns].mode().iloc[0])"
      ]
    },
    {
      "cell_type": "code",
      "execution_count": 11,
      "metadata": {
        "id": "LF5bPoF92VH_",
        "colab": {
          "base_uri": "https://localhost:8080/"
        },
        "outputId": "a5429e02-c82b-4040-969b-040c0d44961b"
      },
      "outputs": [
        {
          "output_type": "stream",
          "name": "stderr",
          "text": [
            "<ipython-input-11-52df117ef56b>:1: FutureWarning: The default value of numeric_only in DataFrame.median is deprecated. In a future version, it will default to False. In addition, specifying 'numeric_only=None' is deprecated. Select only valid columns or specify the value of numeric_only to silence this warning.\n",
            "  data_ml= data_ml.fillna(data_ml.median())\n"
          ]
        }
      ],
      "source": [
        "data_ml= data_ml.fillna(data_ml.median())"
      ]
    },
    {
      "cell_type": "code",
      "execution_count": 10,
      "metadata": {
        "id": "Evpfe90o2VIA",
        "outputId": "88d59fc4-f0db-4760-965a-cd29b00f9944",
        "colab": {
          "base_uri": "https://localhost:8080/"
        }
      },
      "outputs": [
        {
          "output_type": "execute_result",
          "data": {
            "text/plain": [
              "trans_group_en          0\n",
              "procedure_name_en       0\n",
              "property_type_en        0\n",
              "property_sub_type_en    0\n",
              "reg_type_en             0\n",
              "building_name_en        0\n",
              "master_project_en       0\n",
              "nearest_landmark_en     0\n",
              "nearest_metro_en        0\n",
              "nearest_mall_en         0\n",
              "rooms_en                0\n",
              "has_parking             0\n",
              "procedure_area          0\n",
              "meter_sale_price        0\n",
              "no_of_parties_role_1    0\n",
              "no_of_parties_role_2    0\n",
              "no_of_parties_role_3    0\n",
              "actual_worth            0\n",
              "dtype: int64"
            ]
          },
          "metadata": {},
          "execution_count": 10
        }
      ],
      "source": [
        "data_ml.isnull().sum()"
      ]
    },
    {
      "cell_type": "code",
      "source": [
        "data_ml.head()"
      ],
      "metadata": {
        "colab": {
          "base_uri": "https://localhost:8080/",
          "height": 357
        },
        "id": "1w5Fbim6R93C",
        "outputId": "2e47132f-6022-44d5-a3e8-3402efeaadb3"
      },
      "execution_count": 17,
      "outputs": [
        {
          "output_type": "execute_result",
          "data": {
            "text/plain": [
              "  trans_group_en procedure_name_en property_type_en property_sub_type_en  \\\n",
              "0          Sales              Sell            Villa                 Flat   \n",
              "1          Sales              Sell             Unit                 Flat   \n",
              "2          Sales              Sell             Unit                 Flat   \n",
              "3          Sales              Sell             Unit                 Flat   \n",
              "4          Sales              Sell             Unit                 Flat   \n",
              "\n",
              "           reg_type_en building_name_en                    master_project_en  \\\n",
              "0  Existing Properties   Seven City JLT                         Dubai Marina   \n",
              "1  Existing Properties   GREEN LAKES S1                Jumeirah Lakes Towers   \n",
              "2  Existing Properties           SABA 2                Jumeirah Lakes Towers   \n",
              "3  Existing Properties  THE CRESCENT  B  International Media Production Zone   \n",
              "4  Existing Properties         Murjan 1      Jumeriah Beach Residence  - JBR   \n",
              "\n",
              "            nearest_landmark_en            nearest_metro_en nearest_mall_en  \\\n",
              "0   Dubai International Airport  Salah Al Din Metro Station      Dubai Mall   \n",
              "1                  Burj Al Arab            Damac Properties     Marina Mall   \n",
              "2                  Burj Al Arab            Damac Properties     Marina Mall   \n",
              "3  Sports City Swimming Academy            Damac Properties     Marina Mall   \n",
              "4                  Burj Al Arab     Jumeirah Beach Resdency     Marina Mall   \n",
              "\n",
              "  rooms_en  has_parking  procedure_area  meter_sale_price  \\\n",
              "0    1 B/R            0          860.28           5230.86   \n",
              "1    1 B/R            1          100.80           9213.85   \n",
              "2    2 B/R            1          137.45           5798.25   \n",
              "3   Studio            1           47.65          10891.92   \n",
              "4    3 B/R            1          178.52           3915.53   \n",
              "\n",
              "   no_of_parties_role_1  no_of_parties_role_2  no_of_parties_role_3  \\\n",
              "0                   3.0                   1.0                   0.0   \n",
              "1                   1.0                   1.0                   0.0   \n",
              "2                   1.0                   2.0                   0.0   \n",
              "3                   1.0                   2.0                   0.0   \n",
              "4                   1.0                   1.0                   0.0   \n",
              "\n",
              "   actual_worth  \n",
              "0     4500000.0  \n",
              "1      928756.0  \n",
              "2      796970.0  \n",
              "3      519000.0  \n",
              "4      699000.0  "
            ],
            "text/html": [
              "\n",
              "  <div id=\"df-ade169c4-e074-49e4-9df7-99aeb11ff6c1\">\n",
              "    <div class=\"colab-df-container\">\n",
              "      <div>\n",
              "<style scoped>\n",
              "    .dataframe tbody tr th:only-of-type {\n",
              "        vertical-align: middle;\n",
              "    }\n",
              "\n",
              "    .dataframe tbody tr th {\n",
              "        vertical-align: top;\n",
              "    }\n",
              "\n",
              "    .dataframe thead th {\n",
              "        text-align: right;\n",
              "    }\n",
              "</style>\n",
              "<table border=\"1\" class=\"dataframe\">\n",
              "  <thead>\n",
              "    <tr style=\"text-align: right;\">\n",
              "      <th></th>\n",
              "      <th>trans_group_en</th>\n",
              "      <th>procedure_name_en</th>\n",
              "      <th>property_type_en</th>\n",
              "      <th>property_sub_type_en</th>\n",
              "      <th>reg_type_en</th>\n",
              "      <th>building_name_en</th>\n",
              "      <th>master_project_en</th>\n",
              "      <th>nearest_landmark_en</th>\n",
              "      <th>nearest_metro_en</th>\n",
              "      <th>nearest_mall_en</th>\n",
              "      <th>rooms_en</th>\n",
              "      <th>has_parking</th>\n",
              "      <th>procedure_area</th>\n",
              "      <th>meter_sale_price</th>\n",
              "      <th>no_of_parties_role_1</th>\n",
              "      <th>no_of_parties_role_2</th>\n",
              "      <th>no_of_parties_role_3</th>\n",
              "      <th>actual_worth</th>\n",
              "    </tr>\n",
              "  </thead>\n",
              "  <tbody>\n",
              "    <tr>\n",
              "      <th>0</th>\n",
              "      <td>Sales</td>\n",
              "      <td>Sell</td>\n",
              "      <td>Villa</td>\n",
              "      <td>Flat</td>\n",
              "      <td>Existing Properties</td>\n",
              "      <td>Seven City JLT</td>\n",
              "      <td>Dubai Marina</td>\n",
              "      <td>Dubai International Airport</td>\n",
              "      <td>Salah Al Din Metro Station</td>\n",
              "      <td>Dubai Mall</td>\n",
              "      <td>1 B/R</td>\n",
              "      <td>0</td>\n",
              "      <td>860.28</td>\n",
              "      <td>5230.86</td>\n",
              "      <td>3.0</td>\n",
              "      <td>1.0</td>\n",
              "      <td>0.0</td>\n",
              "      <td>4500000.0</td>\n",
              "    </tr>\n",
              "    <tr>\n",
              "      <th>1</th>\n",
              "      <td>Sales</td>\n",
              "      <td>Sell</td>\n",
              "      <td>Unit</td>\n",
              "      <td>Flat</td>\n",
              "      <td>Existing Properties</td>\n",
              "      <td>GREEN LAKES S1</td>\n",
              "      <td>Jumeirah Lakes Towers</td>\n",
              "      <td>Burj Al Arab</td>\n",
              "      <td>Damac Properties</td>\n",
              "      <td>Marina Mall</td>\n",
              "      <td>1 B/R</td>\n",
              "      <td>1</td>\n",
              "      <td>100.80</td>\n",
              "      <td>9213.85</td>\n",
              "      <td>1.0</td>\n",
              "      <td>1.0</td>\n",
              "      <td>0.0</td>\n",
              "      <td>928756.0</td>\n",
              "    </tr>\n",
              "    <tr>\n",
              "      <th>2</th>\n",
              "      <td>Sales</td>\n",
              "      <td>Sell</td>\n",
              "      <td>Unit</td>\n",
              "      <td>Flat</td>\n",
              "      <td>Existing Properties</td>\n",
              "      <td>SABA 2</td>\n",
              "      <td>Jumeirah Lakes Towers</td>\n",
              "      <td>Burj Al Arab</td>\n",
              "      <td>Damac Properties</td>\n",
              "      <td>Marina Mall</td>\n",
              "      <td>2 B/R</td>\n",
              "      <td>1</td>\n",
              "      <td>137.45</td>\n",
              "      <td>5798.25</td>\n",
              "      <td>1.0</td>\n",
              "      <td>2.0</td>\n",
              "      <td>0.0</td>\n",
              "      <td>796970.0</td>\n",
              "    </tr>\n",
              "    <tr>\n",
              "      <th>3</th>\n",
              "      <td>Sales</td>\n",
              "      <td>Sell</td>\n",
              "      <td>Unit</td>\n",
              "      <td>Flat</td>\n",
              "      <td>Existing Properties</td>\n",
              "      <td>THE CRESCENT  B</td>\n",
              "      <td>International Media Production Zone</td>\n",
              "      <td>Sports City Swimming Academy</td>\n",
              "      <td>Damac Properties</td>\n",
              "      <td>Marina Mall</td>\n",
              "      <td>Studio</td>\n",
              "      <td>1</td>\n",
              "      <td>47.65</td>\n",
              "      <td>10891.92</td>\n",
              "      <td>1.0</td>\n",
              "      <td>2.0</td>\n",
              "      <td>0.0</td>\n",
              "      <td>519000.0</td>\n",
              "    </tr>\n",
              "    <tr>\n",
              "      <th>4</th>\n",
              "      <td>Sales</td>\n",
              "      <td>Sell</td>\n",
              "      <td>Unit</td>\n",
              "      <td>Flat</td>\n",
              "      <td>Existing Properties</td>\n",
              "      <td>Murjan 1</td>\n",
              "      <td>Jumeriah Beach Residence  - JBR</td>\n",
              "      <td>Burj Al Arab</td>\n",
              "      <td>Jumeirah Beach Resdency</td>\n",
              "      <td>Marina Mall</td>\n",
              "      <td>3 B/R</td>\n",
              "      <td>1</td>\n",
              "      <td>178.52</td>\n",
              "      <td>3915.53</td>\n",
              "      <td>1.0</td>\n",
              "      <td>1.0</td>\n",
              "      <td>0.0</td>\n",
              "      <td>699000.0</td>\n",
              "    </tr>\n",
              "  </tbody>\n",
              "</table>\n",
              "</div>\n",
              "      <button class=\"colab-df-convert\" onclick=\"convertToInteractive('df-ade169c4-e074-49e4-9df7-99aeb11ff6c1')\"\n",
              "              title=\"Convert this dataframe to an interactive table.\"\n",
              "              style=\"display:none;\">\n",
              "        \n",
              "  <svg xmlns=\"http://www.w3.org/2000/svg\" height=\"24px\"viewBox=\"0 0 24 24\"\n",
              "       width=\"24px\">\n",
              "    <path d=\"M0 0h24v24H0V0z\" fill=\"none\"/>\n",
              "    <path d=\"M18.56 5.44l.94 2.06.94-2.06 2.06-.94-2.06-.94-.94-2.06-.94 2.06-2.06.94zm-11 1L8.5 8.5l.94-2.06 2.06-.94-2.06-.94L8.5 2.5l-.94 2.06-2.06.94zm10 10l.94 2.06.94-2.06 2.06-.94-2.06-.94-.94-2.06-.94 2.06-2.06.94z\"/><path d=\"M17.41 7.96l-1.37-1.37c-.4-.4-.92-.59-1.43-.59-.52 0-1.04.2-1.43.59L10.3 9.45l-7.72 7.72c-.78.78-.78 2.05 0 2.83L4 21.41c.39.39.9.59 1.41.59.51 0 1.02-.2 1.41-.59l7.78-7.78 2.81-2.81c.8-.78.8-2.07 0-2.86zM5.41 20L4 18.59l7.72-7.72 1.47 1.35L5.41 20z\"/>\n",
              "  </svg>\n",
              "      </button>\n",
              "      \n",
              "  <style>\n",
              "    .colab-df-container {\n",
              "      display:flex;\n",
              "      flex-wrap:wrap;\n",
              "      gap: 12px;\n",
              "    }\n",
              "\n",
              "    .colab-df-convert {\n",
              "      background-color: #E8F0FE;\n",
              "      border: none;\n",
              "      border-radius: 50%;\n",
              "      cursor: pointer;\n",
              "      display: none;\n",
              "      fill: #1967D2;\n",
              "      height: 32px;\n",
              "      padding: 0 0 0 0;\n",
              "      width: 32px;\n",
              "    }\n",
              "\n",
              "    .colab-df-convert:hover {\n",
              "      background-color: #E2EBFA;\n",
              "      box-shadow: 0px 1px 2px rgba(60, 64, 67, 0.3), 0px 1px 3px 1px rgba(60, 64, 67, 0.15);\n",
              "      fill: #174EA6;\n",
              "    }\n",
              "\n",
              "    [theme=dark] .colab-df-convert {\n",
              "      background-color: #3B4455;\n",
              "      fill: #D2E3FC;\n",
              "    }\n",
              "\n",
              "    [theme=dark] .colab-df-convert:hover {\n",
              "      background-color: #434B5C;\n",
              "      box-shadow: 0px 1px 3px 1px rgba(0, 0, 0, 0.15);\n",
              "      filter: drop-shadow(0px 1px 2px rgba(0, 0, 0, 0.3));\n",
              "      fill: #FFFFFF;\n",
              "    }\n",
              "  </style>\n",
              "\n",
              "      <script>\n",
              "        const buttonEl =\n",
              "          document.querySelector('#df-ade169c4-e074-49e4-9df7-99aeb11ff6c1 button.colab-df-convert');\n",
              "        buttonEl.style.display =\n",
              "          google.colab.kernel.accessAllowed ? 'block' : 'none';\n",
              "\n",
              "        async function convertToInteractive(key) {\n",
              "          const element = document.querySelector('#df-ade169c4-e074-49e4-9df7-99aeb11ff6c1');\n",
              "          const dataTable =\n",
              "            await google.colab.kernel.invokeFunction('convertToInteractive',\n",
              "                                                     [key], {});\n",
              "          if (!dataTable) return;\n",
              "\n",
              "          const docLinkHtml = 'Like what you see? Visit the ' +\n",
              "            '<a target=\"_blank\" href=https://colab.research.google.com/notebooks/data_table.ipynb>data table notebook</a>'\n",
              "            + ' to learn more about interactive tables.';\n",
              "          element.innerHTML = '';\n",
              "          dataTable['output_type'] = 'display_data';\n",
              "          await google.colab.output.renderOutput(dataTable, element);\n",
              "          const docLink = document.createElement('div');\n",
              "          docLink.innerHTML = docLinkHtml;\n",
              "          element.appendChild(docLink);\n",
              "        }\n",
              "      </script>\n",
              "    </div>\n",
              "  </div>\n",
              "  "
            ]
          },
          "metadata": {},
          "execution_count": 17
        }
      ]
    },
    {
      "cell_type": "code",
      "execution_count": 12,
      "metadata": {
        "id": "ch-PaQ5w2VIB"
      },
      "outputs": [],
      "source": [
        "cat_cols = data_ml.select_dtypes(include=['object']).columns.tolist()"
      ]
    },
    {
      "cell_type": "code",
      "execution_count": 13,
      "metadata": {
        "id": "gfOjMlPd2VIB",
        "outputId": "33ae4837-4ccd-45f7-8b7c-ba10461908b3",
        "colab": {
          "base_uri": "https://localhost:8080/"
        }
      },
      "outputs": [
        {
          "output_type": "execute_result",
          "data": {
            "text/plain": [
              "['trans_group_en',\n",
              " 'procedure_name_en',\n",
              " 'property_type_en',\n",
              " 'property_sub_type_en',\n",
              " 'reg_type_en',\n",
              " 'building_name_en',\n",
              " 'master_project_en',\n",
              " 'nearest_landmark_en',\n",
              " 'nearest_metro_en',\n",
              " 'nearest_mall_en',\n",
              " 'rooms_en']"
            ]
          },
          "metadata": {},
          "execution_count": 13
        }
      ],
      "source": [
        "cat_cols"
      ]
    },
    {
      "cell_type": "code",
      "execution_count": 14,
      "metadata": {
        "id": "bWi4-6pB2VIC"
      },
      "outputs": [],
      "source": [
        "data_ml = pd.get_dummies(data_ml, columns=cat_cols)"
      ]
    },
    {
      "cell_type": "code",
      "source": [
        "data_ml.head()"
      ],
      "metadata": {
        "colab": {
          "base_uri": "https://localhost:8080/",
          "height": 317
        },
        "id": "34l6S0QVSpqK",
        "outputId": "dc7c6696-804e-4a4b-96ed-06c7596f1eca"
      },
      "execution_count": 17,
      "outputs": [
        {
          "output_type": "execute_result",
          "data": {
            "text/plain": [
              "   has_parking  procedure_area  meter_sale_price  no_of_parties_role_1  \\\n",
              "0            0          860.28           5230.86                   3.0   \n",
              "1            1          100.80           9213.85                   1.0   \n",
              "2            1          137.45           5798.25                   1.0   \n",
              "3            1           47.65          10891.92                   1.0   \n",
              "4            1          178.52           3915.53                   1.0   \n",
              "\n",
              "   no_of_parties_role_2  no_of_parties_role_3  actual_worth  \\\n",
              "0                   1.0                   0.0     4500000.0   \n",
              "1                   1.0                   0.0      928756.0   \n",
              "2                   2.0                   0.0      796970.0   \n",
              "3                   2.0                   0.0      519000.0   \n",
              "4                   1.0                   0.0      699000.0   \n",
              "\n",
              "   trans_group_en_Gifts  trans_group_en_Mortgages  trans_group_en_Sales  ...  \\\n",
              "0                     0                         0                     1  ...   \n",
              "1                     0                         0                     1  ...   \n",
              "2                     0                         0                     1  ...   \n",
              "3                     0                         0                     1  ...   \n",
              "4                     0                         0                     1  ...   \n",
              "\n",
              "   rooms_en_7 B/R  rooms_en_8 B/R  rooms_en_9 B/R  rooms_en_GYM  \\\n",
              "0               0               0               0             0   \n",
              "1               0               0               0             0   \n",
              "2               0               0               0             0   \n",
              "3               0               0               0             0   \n",
              "4               0               0               0             0   \n",
              "\n",
              "   rooms_en_Office  rooms_en_PENTHOUSE  rooms_en_Shop  rooms_en_Single Room  \\\n",
              "0                0                   0              0                     0   \n",
              "1                0                   0              0                     0   \n",
              "2                0                   0              0                     0   \n",
              "3                0                   0              0                     0   \n",
              "4                0                   0              0                     0   \n",
              "\n",
              "   rooms_en_Store  rooms_en_Studio  \n",
              "0               0                0  \n",
              "1               0                0  \n",
              "2               0                0  \n",
              "3               0                1  \n",
              "4               0                0  \n",
              "\n",
              "[5 rows x 3770 columns]"
            ],
            "text/html": [
              "\n",
              "  <div id=\"df-cfe4c5db-e938-409e-908f-4038a4fc5b17\">\n",
              "    <div class=\"colab-df-container\">\n",
              "      <div>\n",
              "<style scoped>\n",
              "    .dataframe tbody tr th:only-of-type {\n",
              "        vertical-align: middle;\n",
              "    }\n",
              "\n",
              "    .dataframe tbody tr th {\n",
              "        vertical-align: top;\n",
              "    }\n",
              "\n",
              "    .dataframe thead th {\n",
              "        text-align: right;\n",
              "    }\n",
              "</style>\n",
              "<table border=\"1\" class=\"dataframe\">\n",
              "  <thead>\n",
              "    <tr style=\"text-align: right;\">\n",
              "      <th></th>\n",
              "      <th>has_parking</th>\n",
              "      <th>procedure_area</th>\n",
              "      <th>meter_sale_price</th>\n",
              "      <th>no_of_parties_role_1</th>\n",
              "      <th>no_of_parties_role_2</th>\n",
              "      <th>no_of_parties_role_3</th>\n",
              "      <th>actual_worth</th>\n",
              "      <th>trans_group_en_Gifts</th>\n",
              "      <th>trans_group_en_Mortgages</th>\n",
              "      <th>trans_group_en_Sales</th>\n",
              "      <th>...</th>\n",
              "      <th>rooms_en_7 B/R</th>\n",
              "      <th>rooms_en_8 B/R</th>\n",
              "      <th>rooms_en_9 B/R</th>\n",
              "      <th>rooms_en_GYM</th>\n",
              "      <th>rooms_en_Office</th>\n",
              "      <th>rooms_en_PENTHOUSE</th>\n",
              "      <th>rooms_en_Shop</th>\n",
              "      <th>rooms_en_Single Room</th>\n",
              "      <th>rooms_en_Store</th>\n",
              "      <th>rooms_en_Studio</th>\n",
              "    </tr>\n",
              "  </thead>\n",
              "  <tbody>\n",
              "    <tr>\n",
              "      <th>0</th>\n",
              "      <td>0</td>\n",
              "      <td>860.28</td>\n",
              "      <td>5230.86</td>\n",
              "      <td>3.0</td>\n",
              "      <td>1.0</td>\n",
              "      <td>0.0</td>\n",
              "      <td>4500000.0</td>\n",
              "      <td>0</td>\n",
              "      <td>0</td>\n",
              "      <td>1</td>\n",
              "      <td>...</td>\n",
              "      <td>0</td>\n",
              "      <td>0</td>\n",
              "      <td>0</td>\n",
              "      <td>0</td>\n",
              "      <td>0</td>\n",
              "      <td>0</td>\n",
              "      <td>0</td>\n",
              "      <td>0</td>\n",
              "      <td>0</td>\n",
              "      <td>0</td>\n",
              "    </tr>\n",
              "    <tr>\n",
              "      <th>1</th>\n",
              "      <td>1</td>\n",
              "      <td>100.80</td>\n",
              "      <td>9213.85</td>\n",
              "      <td>1.0</td>\n",
              "      <td>1.0</td>\n",
              "      <td>0.0</td>\n",
              "      <td>928756.0</td>\n",
              "      <td>0</td>\n",
              "      <td>0</td>\n",
              "      <td>1</td>\n",
              "      <td>...</td>\n",
              "      <td>0</td>\n",
              "      <td>0</td>\n",
              "      <td>0</td>\n",
              "      <td>0</td>\n",
              "      <td>0</td>\n",
              "      <td>0</td>\n",
              "      <td>0</td>\n",
              "      <td>0</td>\n",
              "      <td>0</td>\n",
              "      <td>0</td>\n",
              "    </tr>\n",
              "    <tr>\n",
              "      <th>2</th>\n",
              "      <td>1</td>\n",
              "      <td>137.45</td>\n",
              "      <td>5798.25</td>\n",
              "      <td>1.0</td>\n",
              "      <td>2.0</td>\n",
              "      <td>0.0</td>\n",
              "      <td>796970.0</td>\n",
              "      <td>0</td>\n",
              "      <td>0</td>\n",
              "      <td>1</td>\n",
              "      <td>...</td>\n",
              "      <td>0</td>\n",
              "      <td>0</td>\n",
              "      <td>0</td>\n",
              "      <td>0</td>\n",
              "      <td>0</td>\n",
              "      <td>0</td>\n",
              "      <td>0</td>\n",
              "      <td>0</td>\n",
              "      <td>0</td>\n",
              "      <td>0</td>\n",
              "    </tr>\n",
              "    <tr>\n",
              "      <th>3</th>\n",
              "      <td>1</td>\n",
              "      <td>47.65</td>\n",
              "      <td>10891.92</td>\n",
              "      <td>1.0</td>\n",
              "      <td>2.0</td>\n",
              "      <td>0.0</td>\n",
              "      <td>519000.0</td>\n",
              "      <td>0</td>\n",
              "      <td>0</td>\n",
              "      <td>1</td>\n",
              "      <td>...</td>\n",
              "      <td>0</td>\n",
              "      <td>0</td>\n",
              "      <td>0</td>\n",
              "      <td>0</td>\n",
              "      <td>0</td>\n",
              "      <td>0</td>\n",
              "      <td>0</td>\n",
              "      <td>0</td>\n",
              "      <td>0</td>\n",
              "      <td>1</td>\n",
              "    </tr>\n",
              "    <tr>\n",
              "      <th>4</th>\n",
              "      <td>1</td>\n",
              "      <td>178.52</td>\n",
              "      <td>3915.53</td>\n",
              "      <td>1.0</td>\n",
              "      <td>1.0</td>\n",
              "      <td>0.0</td>\n",
              "      <td>699000.0</td>\n",
              "      <td>0</td>\n",
              "      <td>0</td>\n",
              "      <td>1</td>\n",
              "      <td>...</td>\n",
              "      <td>0</td>\n",
              "      <td>0</td>\n",
              "      <td>0</td>\n",
              "      <td>0</td>\n",
              "      <td>0</td>\n",
              "      <td>0</td>\n",
              "      <td>0</td>\n",
              "      <td>0</td>\n",
              "      <td>0</td>\n",
              "      <td>0</td>\n",
              "    </tr>\n",
              "  </tbody>\n",
              "</table>\n",
              "<p>5 rows × 3770 columns</p>\n",
              "</div>\n",
              "      <button class=\"colab-df-convert\" onclick=\"convertToInteractive('df-cfe4c5db-e938-409e-908f-4038a4fc5b17')\"\n",
              "              title=\"Convert this dataframe to an interactive table.\"\n",
              "              style=\"display:none;\">\n",
              "        \n",
              "  <svg xmlns=\"http://www.w3.org/2000/svg\" height=\"24px\"viewBox=\"0 0 24 24\"\n",
              "       width=\"24px\">\n",
              "    <path d=\"M0 0h24v24H0V0z\" fill=\"none\"/>\n",
              "    <path d=\"M18.56 5.44l.94 2.06.94-2.06 2.06-.94-2.06-.94-.94-2.06-.94 2.06-2.06.94zm-11 1L8.5 8.5l.94-2.06 2.06-.94-2.06-.94L8.5 2.5l-.94 2.06-2.06.94zm10 10l.94 2.06.94-2.06 2.06-.94-2.06-.94-.94-2.06-.94 2.06-2.06.94z\"/><path d=\"M17.41 7.96l-1.37-1.37c-.4-.4-.92-.59-1.43-.59-.52 0-1.04.2-1.43.59L10.3 9.45l-7.72 7.72c-.78.78-.78 2.05 0 2.83L4 21.41c.39.39.9.59 1.41.59.51 0 1.02-.2 1.41-.59l7.78-7.78 2.81-2.81c.8-.78.8-2.07 0-2.86zM5.41 20L4 18.59l7.72-7.72 1.47 1.35L5.41 20z\"/>\n",
              "  </svg>\n",
              "      </button>\n",
              "      \n",
              "  <style>\n",
              "    .colab-df-container {\n",
              "      display:flex;\n",
              "      flex-wrap:wrap;\n",
              "      gap: 12px;\n",
              "    }\n",
              "\n",
              "    .colab-df-convert {\n",
              "      background-color: #E8F0FE;\n",
              "      border: none;\n",
              "      border-radius: 50%;\n",
              "      cursor: pointer;\n",
              "      display: none;\n",
              "      fill: #1967D2;\n",
              "      height: 32px;\n",
              "      padding: 0 0 0 0;\n",
              "      width: 32px;\n",
              "    }\n",
              "\n",
              "    .colab-df-convert:hover {\n",
              "      background-color: #E2EBFA;\n",
              "      box-shadow: 0px 1px 2px rgba(60, 64, 67, 0.3), 0px 1px 3px 1px rgba(60, 64, 67, 0.15);\n",
              "      fill: #174EA6;\n",
              "    }\n",
              "\n",
              "    [theme=dark] .colab-df-convert {\n",
              "      background-color: #3B4455;\n",
              "      fill: #D2E3FC;\n",
              "    }\n",
              "\n",
              "    [theme=dark] .colab-df-convert:hover {\n",
              "      background-color: #434B5C;\n",
              "      box-shadow: 0px 1px 3px 1px rgba(0, 0, 0, 0.15);\n",
              "      filter: drop-shadow(0px 1px 2px rgba(0, 0, 0, 0.3));\n",
              "      fill: #FFFFFF;\n",
              "    }\n",
              "  </style>\n",
              "\n",
              "      <script>\n",
              "        const buttonEl =\n",
              "          document.querySelector('#df-cfe4c5db-e938-409e-908f-4038a4fc5b17 button.colab-df-convert');\n",
              "        buttonEl.style.display =\n",
              "          google.colab.kernel.accessAllowed ? 'block' : 'none';\n",
              "\n",
              "        async function convertToInteractive(key) {\n",
              "          const element = document.querySelector('#df-cfe4c5db-e938-409e-908f-4038a4fc5b17');\n",
              "          const dataTable =\n",
              "            await google.colab.kernel.invokeFunction('convertToInteractive',\n",
              "                                                     [key], {});\n",
              "          if (!dataTable) return;\n",
              "\n",
              "          const docLinkHtml = 'Like what you see? Visit the ' +\n",
              "            '<a target=\"_blank\" href=https://colab.research.google.com/notebooks/data_table.ipynb>data table notebook</a>'\n",
              "            + ' to learn more about interactive tables.';\n",
              "          element.innerHTML = '';\n",
              "          dataTable['output_type'] = 'display_data';\n",
              "          await google.colab.output.renderOutput(dataTable, element);\n",
              "          const docLink = document.createElement('div');\n",
              "          docLink.innerHTML = docLinkHtml;\n",
              "          element.appendChild(docLink);\n",
              "        }\n",
              "      </script>\n",
              "    </div>\n",
              "  </div>\n",
              "  "
            ]
          },
          "metadata": {},
          "execution_count": 17
        }
      ]
    },
    {
      "cell_type": "code",
      "execution_count": 14,
      "metadata": {
        "id": "YXtVvJdF2VIC",
        "outputId": "769d6aa9-0c3a-4a0e-c453-ad78d3492873",
        "colab": {
          "base_uri": "https://localhost:8080/"
        }
      },
      "outputs": [
        {
          "output_type": "execute_result",
          "data": {
            "text/plain": [
              "(1077416, 3770)"
            ]
          },
          "metadata": {},
          "execution_count": 14
        }
      ],
      "source": [
        "data_ml.shape"
      ]
    },
    {
      "cell_type": "code",
      "source": [
        "data_ml = data_ml.iloc[1050000:,:]"
      ],
      "metadata": {
        "id": "Nhmb57moEnyl"
      },
      "execution_count": 15,
      "outputs": []
    },
    {
      "cell_type": "code",
      "source": [
        "data_ml.shape"
      ],
      "metadata": {
        "colab": {
          "base_uri": "https://localhost:8080/"
        },
        "id": "4fF_MsfVE_bK",
        "outputId": "5d510ae2-50b2-4328-aa14-4c201c9da02a"
      },
      "execution_count": 16,
      "outputs": [
        {
          "output_type": "execute_result",
          "data": {
            "text/plain": [
              "(27416, 3770)"
            ]
          },
          "metadata": {},
          "execution_count": 16
        }
      ]
    },
    {
      "cell_type": "code",
      "execution_count": 27,
      "metadata": {
        "id": "9NpVpoPN2VID"
      },
      "outputs": [],
      "source": [
        "data_ml.to_csv('dubai_re_ml.csv')"
      ]
    },
    {
      "cell_type": "code",
      "source": [
        "data_ml = pd.read_csv('dubai_re_ml.csv')"
      ],
      "metadata": {
        "id": "MH0G9R0EN9JQ"
      },
      "execution_count": null,
      "outputs": []
    },
    {
      "cell_type": "code",
      "execution_count": 28,
      "metadata": {
        "id": "5D3CvIXJ2VID",
        "outputId": "8caeb9d2-26af-493e-8ff0-8ce6c11766b3",
        "colab": {
          "base_uri": "https://localhost:8080/"
        }
      },
      "outputs": [
        {
          "output_type": "stream",
          "name": "stdout",
          "text": [
            "Looking in indexes: https://pypi.org/simple, https://us-python.pkg.dev/colab-wheels/public/simple/\n",
            "Requirement already satisfied: xgboost in /usr/local/lib/python3.10/dist-packages (1.7.5)\n",
            "Requirement already satisfied: numpy in /usr/local/lib/python3.10/dist-packages (from xgboost) (1.22.4)\n",
            "Requirement already satisfied: scipy in /usr/local/lib/python3.10/dist-packages (from xgboost) (1.10.1)\n"
          ]
        }
      ],
      "source": [
        "pip install xgboost"
      ]
    },
    {
      "cell_type": "code",
      "execution_count": 29,
      "metadata": {
        "id": "N0zA2F3n2VIE"
      },
      "outputs": [],
      "source": [
        "import xgboost as xgb\n",
        "from sklearn.model_selection import train_test_split\n",
        "from sklearn.metrics import r2_score, mean_squared_error"
      ]
    },
    {
      "cell_type": "code",
      "source": [
        "x =  data_ml.drop('actual_worth', axis = 1)"
      ],
      "metadata": {
        "id": "f9Uw36aETfPb"
      },
      "execution_count": 18,
      "outputs": []
    },
    {
      "cell_type": "code",
      "source": [
        "X =x.values"
      ],
      "metadata": {
        "id": "GjSz8AQTTs3f"
      },
      "execution_count": 19,
      "outputs": []
    },
    {
      "cell_type": "code",
      "source": [
        "from sklearn.preprocessing import MinMaxScaler\n",
        "\n",
        "# Assuming you have a feature matrix 'X'\n",
        "\n",
        "\n",
        "# Create an instance of MinMaxScaler\n",
        "scaler = MinMaxScaler()\n",
        "\n",
        "# Fit the scaler on the data\n",
        "scaler.fit(X)\n",
        "\n",
        "# Transform the data using the scaler\n",
        "X = scaler.transform(X)\n",
        "\n",
        "# X_scaled is the scaled feature matrix\n"
      ],
      "metadata": {
        "id": "XHhzVlRwNPZQ"
      },
      "execution_count": 23,
      "outputs": []
    },
    {
      "cell_type": "code",
      "execution_count": 20,
      "metadata": {
        "id": "ojo39c8f2VIE"
      },
      "outputs": [],
      "source": [
        "y = data_ml['actual_worth'].values"
      ]
    },
    {
      "cell_type": "code",
      "source": [
        "type(y)"
      ],
      "metadata": {
        "colab": {
          "base_uri": "https://localhost:8080/"
        },
        "id": "Ot4Jv3EmU0Jc",
        "outputId": "f3d9fd56-d7c1-4610-bf8e-4dd4f443ece5"
      },
      "execution_count": 51,
      "outputs": [
        {
          "output_type": "execute_result",
          "data": {
            "text/plain": [
              "numpy.ndarray"
            ]
          },
          "metadata": {},
          "execution_count": 51
        }
      ]
    },
    {
      "cell_type": "code",
      "execution_count": 72,
      "metadata": {
        "id": "v-sO3VSd2VIE",
        "outputId": "d0fef26b-e05b-47f1-d03d-4b0f98fc47b6",
        "colab": {
          "base_uri": "https://localhost:8080/"
        }
      },
      "outputs": [
        {
          "output_type": "execute_result",
          "data": {
            "text/plain": [
              "(77417, 3769)"
            ]
          },
          "metadata": {},
          "execution_count": 72
        }
      ],
      "source": [
        "X.shape"
      ]
    },
    {
      "cell_type": "code",
      "execution_count": 73,
      "metadata": {
        "id": "A5xwT8Hw2VIF",
        "outputId": "207fbf08-3198-43b6-bdec-f19fd1cdb800",
        "colab": {
          "base_uri": "https://localhost:8080/"
        }
      },
      "outputs": [
        {
          "output_type": "execute_result",
          "data": {
            "text/plain": [
              "(77417,)"
            ]
          },
          "metadata": {},
          "execution_count": 73
        }
      ],
      "source": [
        "y.shape"
      ]
    },
    {
      "cell_type": "code",
      "source": [
        "import numpy as np\n",
        "\n",
        "y_reshaped = np.reshape(y, (-1,1))"
      ],
      "metadata": {
        "id": "_rb1woC4ZklG"
      },
      "execution_count": 40,
      "outputs": []
    },
    {
      "cell_type": "code",
      "source": [
        "scaler.fit(y_reshaped)\n",
        "y = scaler.transform(y_reshaped)"
      ],
      "metadata": {
        "id": "tqetj7NtYvb2"
      },
      "execution_count": 42,
      "outputs": []
    },
    {
      "cell_type": "code",
      "execution_count": 21,
      "metadata": {
        "id": "sC-2bqxH2VIF"
      },
      "outputs": [],
      "source": [
        "X_train, X_test, y_train, y_test = train_test_split(X, y, test_size=0.2, random_state=42)"
      ]
    },
    {
      "cell_type": "code",
      "execution_count": 22,
      "metadata": {
        "id": "Wvav9btl2VIF"
      },
      "outputs": [],
      "source": [
        "xgb_model = xgb.XGBRegressor()\n"
      ]
    },
    {
      "cell_type": "code",
      "source": [
        "type(X_train)"
      ],
      "metadata": {
        "colab": {
          "base_uri": "https://localhost:8080/"
        },
        "id": "mzHa6Y_bmWrv",
        "outputId": "1f694b5c-d74f-4c0f-fa42-29993d3c52b7"
      },
      "execution_count": 24,
      "outputs": [
        {
          "output_type": "execute_result",
          "data": {
            "text/plain": [
              "numpy.ndarray"
            ]
          },
          "metadata": {},
          "execution_count": 24
        }
      ]
    },
    {
      "cell_type": "code",
      "source": [
        "y_train.shape"
      ],
      "metadata": {
        "colab": {
          "base_uri": "https://localhost:8080/"
        },
        "id": "XmXvcc5OUmnU",
        "outputId": "b2bfc500-203c-49de-faa4-4e57f1488b0e"
      },
      "execution_count": 25,
      "outputs": [
        {
          "output_type": "execute_result",
          "data": {
            "text/plain": [
              "(61933,)"
            ]
          },
          "metadata": {},
          "execution_count": 25
        }
      ]
    },
    {
      "cell_type": "code",
      "execution_count": 23,
      "metadata": {
        "id": "4QxJjXCw2VIF",
        "outputId": "16e4f6b5-f6e9-4dd0-b8d7-bfaef1c3188b",
        "colab": {
          "base_uri": "https://localhost:8080/",
          "height": 248
        }
      },
      "outputs": [
        {
          "output_type": "execute_result",
          "data": {
            "text/plain": [
              "XGBRegressor(base_score=None, booster=None, callbacks=None,\n",
              "             colsample_bylevel=None, colsample_bynode=None,\n",
              "             colsample_bytree=None, early_stopping_rounds=None,\n",
              "             enable_categorical=False, eval_metric=None, feature_types=None,\n",
              "             gamma=None, gpu_id=None, grow_policy=None, importance_type=None,\n",
              "             interaction_constraints=None, learning_rate=None, max_bin=None,\n",
              "             max_cat_threshold=None, max_cat_to_onehot=None,\n",
              "             max_delta_step=None, max_depth=None, max_leaves=None,\n",
              "             min_child_weight=None, missing=nan, monotone_constraints=None,\n",
              "             n_estimators=100, n_jobs=None, num_parallel_tree=None,\n",
              "             predictor=None, random_state=None, ...)"
            ],
            "text/html": [
              "<style>#sk-container-id-1 {color: black;background-color: white;}#sk-container-id-1 pre{padding: 0;}#sk-container-id-1 div.sk-toggleable {background-color: white;}#sk-container-id-1 label.sk-toggleable__label {cursor: pointer;display: block;width: 100%;margin-bottom: 0;padding: 0.3em;box-sizing: border-box;text-align: center;}#sk-container-id-1 label.sk-toggleable__label-arrow:before {content: \"▸\";float: left;margin-right: 0.25em;color: #696969;}#sk-container-id-1 label.sk-toggleable__label-arrow:hover:before {color: black;}#sk-container-id-1 div.sk-estimator:hover label.sk-toggleable__label-arrow:before {color: black;}#sk-container-id-1 div.sk-toggleable__content {max-height: 0;max-width: 0;overflow: hidden;text-align: left;background-color: #f0f8ff;}#sk-container-id-1 div.sk-toggleable__content pre {margin: 0.2em;color: black;border-radius: 0.25em;background-color: #f0f8ff;}#sk-container-id-1 input.sk-toggleable__control:checked~div.sk-toggleable__content {max-height: 200px;max-width: 100%;overflow: auto;}#sk-container-id-1 input.sk-toggleable__control:checked~label.sk-toggleable__label-arrow:before {content: \"▾\";}#sk-container-id-1 div.sk-estimator input.sk-toggleable__control:checked~label.sk-toggleable__label {background-color: #d4ebff;}#sk-container-id-1 div.sk-label input.sk-toggleable__control:checked~label.sk-toggleable__label {background-color: #d4ebff;}#sk-container-id-1 input.sk-hidden--visually {border: 0;clip: rect(1px 1px 1px 1px);clip: rect(1px, 1px, 1px, 1px);height: 1px;margin: -1px;overflow: hidden;padding: 0;position: absolute;width: 1px;}#sk-container-id-1 div.sk-estimator {font-family: monospace;background-color: #f0f8ff;border: 1px dotted black;border-radius: 0.25em;box-sizing: border-box;margin-bottom: 0.5em;}#sk-container-id-1 div.sk-estimator:hover {background-color: #d4ebff;}#sk-container-id-1 div.sk-parallel-item::after {content: \"\";width: 100%;border-bottom: 1px solid gray;flex-grow: 1;}#sk-container-id-1 div.sk-label:hover label.sk-toggleable__label {background-color: #d4ebff;}#sk-container-id-1 div.sk-serial::before {content: \"\";position: absolute;border-left: 1px solid gray;box-sizing: border-box;top: 0;bottom: 0;left: 50%;z-index: 0;}#sk-container-id-1 div.sk-serial {display: flex;flex-direction: column;align-items: center;background-color: white;padding-right: 0.2em;padding-left: 0.2em;position: relative;}#sk-container-id-1 div.sk-item {position: relative;z-index: 1;}#sk-container-id-1 div.sk-parallel {display: flex;align-items: stretch;justify-content: center;background-color: white;position: relative;}#sk-container-id-1 div.sk-item::before, #sk-container-id-1 div.sk-parallel-item::before {content: \"\";position: absolute;border-left: 1px solid gray;box-sizing: border-box;top: 0;bottom: 0;left: 50%;z-index: -1;}#sk-container-id-1 div.sk-parallel-item {display: flex;flex-direction: column;z-index: 1;position: relative;background-color: white;}#sk-container-id-1 div.sk-parallel-item:first-child::after {align-self: flex-end;width: 50%;}#sk-container-id-1 div.sk-parallel-item:last-child::after {align-self: flex-start;width: 50%;}#sk-container-id-1 div.sk-parallel-item:only-child::after {width: 0;}#sk-container-id-1 div.sk-dashed-wrapped {border: 1px dashed gray;margin: 0 0.4em 0.5em 0.4em;box-sizing: border-box;padding-bottom: 0.4em;background-color: white;}#sk-container-id-1 div.sk-label label {font-family: monospace;font-weight: bold;display: inline-block;line-height: 1.2em;}#sk-container-id-1 div.sk-label-container {text-align: center;}#sk-container-id-1 div.sk-container {/* jupyter's `normalize.less` sets `[hidden] { display: none; }` but bootstrap.min.css set `[hidden] { display: none !important; }` so we also need the `!important` here to be able to override the default hidden behavior on the sphinx rendered scikit-learn.org. See: https://github.com/scikit-learn/scikit-learn/issues/21755 */display: inline-block !important;position: relative;}#sk-container-id-1 div.sk-text-repr-fallback {display: none;}</style><div id=\"sk-container-id-1\" class=\"sk-top-container\"><div class=\"sk-text-repr-fallback\"><pre>XGBRegressor(base_score=None, booster=None, callbacks=None,\n",
              "             colsample_bylevel=None, colsample_bynode=None,\n",
              "             colsample_bytree=None, early_stopping_rounds=None,\n",
              "             enable_categorical=False, eval_metric=None, feature_types=None,\n",
              "             gamma=None, gpu_id=None, grow_policy=None, importance_type=None,\n",
              "             interaction_constraints=None, learning_rate=None, max_bin=None,\n",
              "             max_cat_threshold=None, max_cat_to_onehot=None,\n",
              "             max_delta_step=None, max_depth=None, max_leaves=None,\n",
              "             min_child_weight=None, missing=nan, monotone_constraints=None,\n",
              "             n_estimators=100, n_jobs=None, num_parallel_tree=None,\n",
              "             predictor=None, random_state=None, ...)</pre><b>In a Jupyter environment, please rerun this cell to show the HTML representation or trust the notebook. <br />On GitHub, the HTML representation is unable to render, please try loading this page with nbviewer.org.</b></div><div class=\"sk-container\" hidden><div class=\"sk-item\"><div class=\"sk-estimator sk-toggleable\"><input class=\"sk-toggleable__control sk-hidden--visually\" id=\"sk-estimator-id-1\" type=\"checkbox\" checked><label for=\"sk-estimator-id-1\" class=\"sk-toggleable__label sk-toggleable__label-arrow\">XGBRegressor</label><div class=\"sk-toggleable__content\"><pre>XGBRegressor(base_score=None, booster=None, callbacks=None,\n",
              "             colsample_bylevel=None, colsample_bynode=None,\n",
              "             colsample_bytree=None, early_stopping_rounds=None,\n",
              "             enable_categorical=False, eval_metric=None, feature_types=None,\n",
              "             gamma=None, gpu_id=None, grow_policy=None, importance_type=None,\n",
              "             interaction_constraints=None, learning_rate=None, max_bin=None,\n",
              "             max_cat_threshold=None, max_cat_to_onehot=None,\n",
              "             max_delta_step=None, max_depth=None, max_leaves=None,\n",
              "             min_child_weight=None, missing=nan, monotone_constraints=None,\n",
              "             n_estimators=100, n_jobs=None, num_parallel_tree=None,\n",
              "             predictor=None, random_state=None, ...)</pre></div></div></div></div></div>"
            ]
          },
          "metadata": {},
          "execution_count": 23
        }
      ],
      "source": [
        "xgb_model.fit(X_train, y_train)\n"
      ]
    },
    {
      "cell_type": "code",
      "source": [
        "rmse = mean_squared_error(y_test, y_pred, squared=False)\n",
        "print(f\"RMSE: {rmse}\")"
      ],
      "metadata": {
        "colab": {
          "base_uri": "https://localhost:8080/"
        },
        "id": "02slDsUNspQm",
        "outputId": "59646b0b-fed7-496f-9358-364ee580df5e"
      },
      "execution_count": 28,
      "outputs": [
        {
          "output_type": "stream",
          "name": "stdout",
          "text": [
            "RMSE: 2564434.2545349086\n"
          ]
        }
      ]
    },
    {
      "cell_type": "code",
      "source": [
        "r2 = r2_score(y_test,y_pred)\n",
        "print('Regressor Score is =',r2)"
      ],
      "metadata": {
        "colab": {
          "base_uri": "https://localhost:8080/"
        },
        "id": "DrK20qfFtGpW",
        "outputId": "719008ce-2ea2-4285-d387-052869962670"
      },
      "execution_count": 30,
      "outputs": [
        {
          "output_type": "stream",
          "name": "stdout",
          "text": [
            "Regressor Score is = 0.8022416258944615\n"
          ]
        }
      ]
    },
    {
      "cell_type": "code",
      "source": [
        "y_pred = xgb_model.predict(X_test)\n"
      ],
      "metadata": {
        "id": "2abRuL_IMeAY"
      },
      "execution_count": 24,
      "outputs": []
    },
    {
      "cell_type": "code",
      "source": [
        "y_pred"
      ],
      "metadata": {
        "colab": {
          "base_uri": "https://localhost:8080/"
        },
        "id": "myO_mWRpMqkK",
        "outputId": "d53b20d0-d0fe-492e-e6aa-4e873d39622b"
      },
      "execution_count": 26,
      "outputs": [
        {
          "output_type": "execute_result",
          "data": {
            "text/plain": [
              "array([1359407.6 , 1064028.2 ,  521101.72, ..., 3144335.2 ,  521101.72,\n",
              "        680506.06], dtype=float32)"
            ]
          },
          "metadata": {},
          "execution_count": 26
        }
      ]
    },
    {
      "cell_type": "code",
      "execution_count": 42,
      "metadata": {
        "id": "Vs85gYYC2VIG",
        "colab": {
          "base_uri": "https://localhost:8080/",
          "height": 505
        },
        "outputId": "46349395-d8f9-4b38-96a5-9658045e9e1d"
      },
      "outputs": [
        {
          "output_type": "execute_result",
          "data": {
            "text/plain": [
              "         has_parking  procedure_area  meter_sale_price  no_of_parties_role_1  \\\n",
              "1003843            1          169.19           6844.41                   1.0   \n",
              "1008835            1           67.51           7173.01                   1.0   \n",
              "1045860            0         1393.73           4663.74                   1.0   \n",
              "1062277            1          128.37          15838.93                   1.0   \n",
              "1052301            0          746.48           4144.64                   1.0   \n",
              "...              ...             ...               ...                   ...   \n",
              "1006264            1           13.42          10764.53                   1.0   \n",
              "1054885            0           43.26          11442.44                   1.0   \n",
              "1076819            1          220.09           8918.17                   1.0   \n",
              "1000859            1          197.93          12378.11                   2.0   \n",
              "1015794            1           89.40          17274.27                   2.0   \n",
              "\n",
              "         no_of_parties_role_2  no_of_parties_role_3  actual_worth  \\\n",
              "1003843                   1.0                   0.0     1158006.0   \n",
              "1008835                   2.0                   0.0      484250.0   \n",
              "1045860                   1.0                   0.0     6500000.0   \n",
              "1062277                   1.0                   0.0     2033243.0   \n",
              "1052301                   1.0                   0.0     3093888.0   \n",
              "...                       ...                   ...           ...   \n",
              "1006264                   1.0                   0.0      144460.0   \n",
              "1054885                   1.0                   0.0      495000.0   \n",
              "1076819                   1.0                   0.0     1962800.0   \n",
              "1000859                   1.0                   0.0     2450000.0   \n",
              "1015794                   2.0                   2.0     1544320.0   \n",
              "\n",
              "         trans_group_en_Gifts  trans_group_en_Mortgages  trans_group_en_Sales  \\\n",
              "1003843                     0                         0                     1   \n",
              "1008835                     0                         0                     1   \n",
              "1045860                     1                         0                     0   \n",
              "1062277                     0                         0                     1   \n",
              "1052301                     0                         0                     1   \n",
              "...                       ...                       ...                   ...   \n",
              "1006264                     0                         0                     1   \n",
              "1054885                     0                         0                     1   \n",
              "1076819                     0                         0                     1   \n",
              "1000859                     0                         1                     0   \n",
              "1015794                     0                         1                     0   \n",
              "\n",
              "         ...  rooms_en_6 B/R  rooms_en_7 B/R  rooms_en_8 B/R  rooms_en_9 B/R  \\\n",
              "1003843  ...               0               0               0               0   \n",
              "1008835  ...               0               0               0               0   \n",
              "1045860  ...               0               0               0               0   \n",
              "1062277  ...               0               0               0               0   \n",
              "1052301  ...               0               0               0               0   \n",
              "...      ...             ...             ...             ...             ...   \n",
              "1006264  ...               0               0               0               0   \n",
              "1054885  ...               0               0               0               0   \n",
              "1076819  ...               0               0               0               0   \n",
              "1000859  ...               0               0               0               0   \n",
              "1015794  ...               0               0               0               0   \n",
              "\n",
              "         rooms_en_GYM  rooms_en_Office  rooms_en_PENTHOUSE  rooms_en_Shop  \\\n",
              "1003843             0                0                   0              0   \n",
              "1008835             0                1                   0              0   \n",
              "1045860             0                0                   0              0   \n",
              "1062277             0                0                   0              0   \n",
              "1052301             0                0                   0              0   \n",
              "...               ...              ...                 ...            ...   \n",
              "1006264             0                1                   0              0   \n",
              "1054885             0                0                   0              0   \n",
              "1076819             0                0                   0              0   \n",
              "1000859             0                0                   0              0   \n",
              "1015794             0                0                   0              0   \n",
              "\n",
              "         rooms_en_Single Room  rooms_en_Store  \n",
              "1003843                     0               0  \n",
              "1008835                     0               0  \n",
              "1045860                     0               0  \n",
              "1062277                     0               0  \n",
              "1052301                     0               0  \n",
              "...                       ...             ...  \n",
              "1006264                     0               0  \n",
              "1054885                     0               0  \n",
              "1076819                     0               0  \n",
              "1000859                     0               0  \n",
              "1015794                     0               0  \n",
              "\n",
              "[61933 rows x 3769 columns]"
            ],
            "text/html": [
              "\n",
              "  <div id=\"df-5c7811c4-a441-4299-93fd-6d0573d615fb\">\n",
              "    <div class=\"colab-df-container\">\n",
              "      <div>\n",
              "<style scoped>\n",
              "    .dataframe tbody tr th:only-of-type {\n",
              "        vertical-align: middle;\n",
              "    }\n",
              "\n",
              "    .dataframe tbody tr th {\n",
              "        vertical-align: top;\n",
              "    }\n",
              "\n",
              "    .dataframe thead th {\n",
              "        text-align: right;\n",
              "    }\n",
              "</style>\n",
              "<table border=\"1\" class=\"dataframe\">\n",
              "  <thead>\n",
              "    <tr style=\"text-align: right;\">\n",
              "      <th></th>\n",
              "      <th>has_parking</th>\n",
              "      <th>procedure_area</th>\n",
              "      <th>meter_sale_price</th>\n",
              "      <th>no_of_parties_role_1</th>\n",
              "      <th>no_of_parties_role_2</th>\n",
              "      <th>no_of_parties_role_3</th>\n",
              "      <th>actual_worth</th>\n",
              "      <th>trans_group_en_Gifts</th>\n",
              "      <th>trans_group_en_Mortgages</th>\n",
              "      <th>trans_group_en_Sales</th>\n",
              "      <th>...</th>\n",
              "      <th>rooms_en_6 B/R</th>\n",
              "      <th>rooms_en_7 B/R</th>\n",
              "      <th>rooms_en_8 B/R</th>\n",
              "      <th>rooms_en_9 B/R</th>\n",
              "      <th>rooms_en_GYM</th>\n",
              "      <th>rooms_en_Office</th>\n",
              "      <th>rooms_en_PENTHOUSE</th>\n",
              "      <th>rooms_en_Shop</th>\n",
              "      <th>rooms_en_Single Room</th>\n",
              "      <th>rooms_en_Store</th>\n",
              "    </tr>\n",
              "  </thead>\n",
              "  <tbody>\n",
              "    <tr>\n",
              "      <th>1003843</th>\n",
              "      <td>1</td>\n",
              "      <td>169.19</td>\n",
              "      <td>6844.41</td>\n",
              "      <td>1.0</td>\n",
              "      <td>1.0</td>\n",
              "      <td>0.0</td>\n",
              "      <td>1158006.0</td>\n",
              "      <td>0</td>\n",
              "      <td>0</td>\n",
              "      <td>1</td>\n",
              "      <td>...</td>\n",
              "      <td>0</td>\n",
              "      <td>0</td>\n",
              "      <td>0</td>\n",
              "      <td>0</td>\n",
              "      <td>0</td>\n",
              "      <td>0</td>\n",
              "      <td>0</td>\n",
              "      <td>0</td>\n",
              "      <td>0</td>\n",
              "      <td>0</td>\n",
              "    </tr>\n",
              "    <tr>\n",
              "      <th>1008835</th>\n",
              "      <td>1</td>\n",
              "      <td>67.51</td>\n",
              "      <td>7173.01</td>\n",
              "      <td>1.0</td>\n",
              "      <td>2.0</td>\n",
              "      <td>0.0</td>\n",
              "      <td>484250.0</td>\n",
              "      <td>0</td>\n",
              "      <td>0</td>\n",
              "      <td>1</td>\n",
              "      <td>...</td>\n",
              "      <td>0</td>\n",
              "      <td>0</td>\n",
              "      <td>0</td>\n",
              "      <td>0</td>\n",
              "      <td>0</td>\n",
              "      <td>1</td>\n",
              "      <td>0</td>\n",
              "      <td>0</td>\n",
              "      <td>0</td>\n",
              "      <td>0</td>\n",
              "    </tr>\n",
              "    <tr>\n",
              "      <th>1045860</th>\n",
              "      <td>0</td>\n",
              "      <td>1393.73</td>\n",
              "      <td>4663.74</td>\n",
              "      <td>1.0</td>\n",
              "      <td>1.0</td>\n",
              "      <td>0.0</td>\n",
              "      <td>6500000.0</td>\n",
              "      <td>1</td>\n",
              "      <td>0</td>\n",
              "      <td>0</td>\n",
              "      <td>...</td>\n",
              "      <td>0</td>\n",
              "      <td>0</td>\n",
              "      <td>0</td>\n",
              "      <td>0</td>\n",
              "      <td>0</td>\n",
              "      <td>0</td>\n",
              "      <td>0</td>\n",
              "      <td>0</td>\n",
              "      <td>0</td>\n",
              "      <td>0</td>\n",
              "    </tr>\n",
              "    <tr>\n",
              "      <th>1062277</th>\n",
              "      <td>1</td>\n",
              "      <td>128.37</td>\n",
              "      <td>15838.93</td>\n",
              "      <td>1.0</td>\n",
              "      <td>1.0</td>\n",
              "      <td>0.0</td>\n",
              "      <td>2033243.0</td>\n",
              "      <td>0</td>\n",
              "      <td>0</td>\n",
              "      <td>1</td>\n",
              "      <td>...</td>\n",
              "      <td>0</td>\n",
              "      <td>0</td>\n",
              "      <td>0</td>\n",
              "      <td>0</td>\n",
              "      <td>0</td>\n",
              "      <td>0</td>\n",
              "      <td>0</td>\n",
              "      <td>0</td>\n",
              "      <td>0</td>\n",
              "      <td>0</td>\n",
              "    </tr>\n",
              "    <tr>\n",
              "      <th>1052301</th>\n",
              "      <td>0</td>\n",
              "      <td>746.48</td>\n",
              "      <td>4144.64</td>\n",
              "      <td>1.0</td>\n",
              "      <td>1.0</td>\n",
              "      <td>0.0</td>\n",
              "      <td>3093888.0</td>\n",
              "      <td>0</td>\n",
              "      <td>0</td>\n",
              "      <td>1</td>\n",
              "      <td>...</td>\n",
              "      <td>0</td>\n",
              "      <td>0</td>\n",
              "      <td>0</td>\n",
              "      <td>0</td>\n",
              "      <td>0</td>\n",
              "      <td>0</td>\n",
              "      <td>0</td>\n",
              "      <td>0</td>\n",
              "      <td>0</td>\n",
              "      <td>0</td>\n",
              "    </tr>\n",
              "    <tr>\n",
              "      <th>...</th>\n",
              "      <td>...</td>\n",
              "      <td>...</td>\n",
              "      <td>...</td>\n",
              "      <td>...</td>\n",
              "      <td>...</td>\n",
              "      <td>...</td>\n",
              "      <td>...</td>\n",
              "      <td>...</td>\n",
              "      <td>...</td>\n",
              "      <td>...</td>\n",
              "      <td>...</td>\n",
              "      <td>...</td>\n",
              "      <td>...</td>\n",
              "      <td>...</td>\n",
              "      <td>...</td>\n",
              "      <td>...</td>\n",
              "      <td>...</td>\n",
              "      <td>...</td>\n",
              "      <td>...</td>\n",
              "      <td>...</td>\n",
              "      <td>...</td>\n",
              "    </tr>\n",
              "    <tr>\n",
              "      <th>1006264</th>\n",
              "      <td>1</td>\n",
              "      <td>13.42</td>\n",
              "      <td>10764.53</td>\n",
              "      <td>1.0</td>\n",
              "      <td>1.0</td>\n",
              "      <td>0.0</td>\n",
              "      <td>144460.0</td>\n",
              "      <td>0</td>\n",
              "      <td>0</td>\n",
              "      <td>1</td>\n",
              "      <td>...</td>\n",
              "      <td>0</td>\n",
              "      <td>0</td>\n",
              "      <td>0</td>\n",
              "      <td>0</td>\n",
              "      <td>0</td>\n",
              "      <td>1</td>\n",
              "      <td>0</td>\n",
              "      <td>0</td>\n",
              "      <td>0</td>\n",
              "      <td>0</td>\n",
              "    </tr>\n",
              "    <tr>\n",
              "      <th>1054885</th>\n",
              "      <td>0</td>\n",
              "      <td>43.26</td>\n",
              "      <td>11442.44</td>\n",
              "      <td>1.0</td>\n",
              "      <td>1.0</td>\n",
              "      <td>0.0</td>\n",
              "      <td>495000.0</td>\n",
              "      <td>0</td>\n",
              "      <td>0</td>\n",
              "      <td>1</td>\n",
              "      <td>...</td>\n",
              "      <td>0</td>\n",
              "      <td>0</td>\n",
              "      <td>0</td>\n",
              "      <td>0</td>\n",
              "      <td>0</td>\n",
              "      <td>0</td>\n",
              "      <td>0</td>\n",
              "      <td>0</td>\n",
              "      <td>0</td>\n",
              "      <td>0</td>\n",
              "    </tr>\n",
              "    <tr>\n",
              "      <th>1076819</th>\n",
              "      <td>1</td>\n",
              "      <td>220.09</td>\n",
              "      <td>8918.17</td>\n",
              "      <td>1.0</td>\n",
              "      <td>1.0</td>\n",
              "      <td>0.0</td>\n",
              "      <td>1962800.0</td>\n",
              "      <td>0</td>\n",
              "      <td>0</td>\n",
              "      <td>1</td>\n",
              "      <td>...</td>\n",
              "      <td>0</td>\n",
              "      <td>0</td>\n",
              "      <td>0</td>\n",
              "      <td>0</td>\n",
              "      <td>0</td>\n",
              "      <td>0</td>\n",
              "      <td>0</td>\n",
              "      <td>0</td>\n",
              "      <td>0</td>\n",
              "      <td>0</td>\n",
              "    </tr>\n",
              "    <tr>\n",
              "      <th>1000859</th>\n",
              "      <td>1</td>\n",
              "      <td>197.93</td>\n",
              "      <td>12378.11</td>\n",
              "      <td>2.0</td>\n",
              "      <td>1.0</td>\n",
              "      <td>0.0</td>\n",
              "      <td>2450000.0</td>\n",
              "      <td>0</td>\n",
              "      <td>1</td>\n",
              "      <td>0</td>\n",
              "      <td>...</td>\n",
              "      <td>0</td>\n",
              "      <td>0</td>\n",
              "      <td>0</td>\n",
              "      <td>0</td>\n",
              "      <td>0</td>\n",
              "      <td>0</td>\n",
              "      <td>0</td>\n",
              "      <td>0</td>\n",
              "      <td>0</td>\n",
              "      <td>0</td>\n",
              "    </tr>\n",
              "    <tr>\n",
              "      <th>1015794</th>\n",
              "      <td>1</td>\n",
              "      <td>89.40</td>\n",
              "      <td>17274.27</td>\n",
              "      <td>2.0</td>\n",
              "      <td>2.0</td>\n",
              "      <td>2.0</td>\n",
              "      <td>1544320.0</td>\n",
              "      <td>0</td>\n",
              "      <td>1</td>\n",
              "      <td>0</td>\n",
              "      <td>...</td>\n",
              "      <td>0</td>\n",
              "      <td>0</td>\n",
              "      <td>0</td>\n",
              "      <td>0</td>\n",
              "      <td>0</td>\n",
              "      <td>0</td>\n",
              "      <td>0</td>\n",
              "      <td>0</td>\n",
              "      <td>0</td>\n",
              "      <td>0</td>\n",
              "    </tr>\n",
              "  </tbody>\n",
              "</table>\n",
              "<p>61933 rows × 3769 columns</p>\n",
              "</div>\n",
              "      <button class=\"colab-df-convert\" onclick=\"convertToInteractive('df-5c7811c4-a441-4299-93fd-6d0573d615fb')\"\n",
              "              title=\"Convert this dataframe to an interactive table.\"\n",
              "              style=\"display:none;\">\n",
              "        \n",
              "  <svg xmlns=\"http://www.w3.org/2000/svg\" height=\"24px\"viewBox=\"0 0 24 24\"\n",
              "       width=\"24px\">\n",
              "    <path d=\"M0 0h24v24H0V0z\" fill=\"none\"/>\n",
              "    <path d=\"M18.56 5.44l.94 2.06.94-2.06 2.06-.94-2.06-.94-.94-2.06-.94 2.06-2.06.94zm-11 1L8.5 8.5l.94-2.06 2.06-.94-2.06-.94L8.5 2.5l-.94 2.06-2.06.94zm10 10l.94 2.06.94-2.06 2.06-.94-2.06-.94-.94-2.06-.94 2.06-2.06.94z\"/><path d=\"M17.41 7.96l-1.37-1.37c-.4-.4-.92-.59-1.43-.59-.52 0-1.04.2-1.43.59L10.3 9.45l-7.72 7.72c-.78.78-.78 2.05 0 2.83L4 21.41c.39.39.9.59 1.41.59.51 0 1.02-.2 1.41-.59l7.78-7.78 2.81-2.81c.8-.78.8-2.07 0-2.86zM5.41 20L4 18.59l7.72-7.72 1.47 1.35L5.41 20z\"/>\n",
              "  </svg>\n",
              "      </button>\n",
              "      \n",
              "  <style>\n",
              "    .colab-df-container {\n",
              "      display:flex;\n",
              "      flex-wrap:wrap;\n",
              "      gap: 12px;\n",
              "    }\n",
              "\n",
              "    .colab-df-convert {\n",
              "      background-color: #E8F0FE;\n",
              "      border: none;\n",
              "      border-radius: 50%;\n",
              "      cursor: pointer;\n",
              "      display: none;\n",
              "      fill: #1967D2;\n",
              "      height: 32px;\n",
              "      padding: 0 0 0 0;\n",
              "      width: 32px;\n",
              "    }\n",
              "\n",
              "    .colab-df-convert:hover {\n",
              "      background-color: #E2EBFA;\n",
              "      box-shadow: 0px 1px 2px rgba(60, 64, 67, 0.3), 0px 1px 3px 1px rgba(60, 64, 67, 0.15);\n",
              "      fill: #174EA6;\n",
              "    }\n",
              "\n",
              "    [theme=dark] .colab-df-convert {\n",
              "      background-color: #3B4455;\n",
              "      fill: #D2E3FC;\n",
              "    }\n",
              "\n",
              "    [theme=dark] .colab-df-convert:hover {\n",
              "      background-color: #434B5C;\n",
              "      box-shadow: 0px 1px 3px 1px rgba(0, 0, 0, 0.15);\n",
              "      filter: drop-shadow(0px 1px 2px rgba(0, 0, 0, 0.3));\n",
              "      fill: #FFFFFF;\n",
              "    }\n",
              "  </style>\n",
              "\n",
              "      <script>\n",
              "        const buttonEl =\n",
              "          document.querySelector('#df-5c7811c4-a441-4299-93fd-6d0573d615fb button.colab-df-convert');\n",
              "        buttonEl.style.display =\n",
              "          google.colab.kernel.accessAllowed ? 'block' : 'none';\n",
              "\n",
              "        async function convertToInteractive(key) {\n",
              "          const element = document.querySelector('#df-5c7811c4-a441-4299-93fd-6d0573d615fb');\n",
              "          const dataTable =\n",
              "            await google.colab.kernel.invokeFunction('convertToInteractive',\n",
              "                                                     [key], {});\n",
              "          if (!dataTable) return;\n",
              "\n",
              "          const docLinkHtml = 'Like what you see? Visit the ' +\n",
              "            '<a target=\"_blank\" href=https://colab.research.google.com/notebooks/data_table.ipynb>data table notebook</a>'\n",
              "            + ' to learn more about interactive tables.';\n",
              "          element.innerHTML = '';\n",
              "          dataTable['output_type'] = 'display_data';\n",
              "          await google.colab.output.renderOutput(dataTable, element);\n",
              "          const docLink = document.createElement('div');\n",
              "          docLink.innerHTML = docLinkHtml;\n",
              "          element.appendChild(docLink);\n",
              "        }\n",
              "      </script>\n",
              "    </div>\n",
              "  </div>\n",
              "  "
            ]
          },
          "metadata": {},
          "execution_count": 42
        }
      ],
      "source": [
        "X_train"
      ]
    },
    {
      "cell_type": "code",
      "source": [],
      "metadata": {
        "id": "cCQ6kcH0NGrL"
      },
      "execution_count": null,
      "outputs": []
    }
  ],
  "metadata": {
    "kernelspec": {
      "display_name": "Python 3",
      "language": "python",
      "name": "python3"
    },
    "language_info": {
      "codemirror_mode": {
        "name": "ipython",
        "version": 3
      },
      "file_extension": ".py",
      "mimetype": "text/x-python",
      "name": "python",
      "nbconvert_exporter": "python",
      "pygments_lexer": "ipython3",
      "version": "3.8.3"
    },
    "colab": {
      "provenance": [],
      "include_colab_link": true
    }
  },
  "nbformat": 4,
  "nbformat_minor": 0
}